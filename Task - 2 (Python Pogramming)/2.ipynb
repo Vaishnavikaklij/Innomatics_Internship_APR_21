{
  "nbformat": 4,
  "nbformat_minor": 0,
  "metadata": {
    "colab": {
      "name": "2",
      "provenance": [],
      "collapsed_sections": []
    },
    "kernelspec": {
      "name": "python3",
      "display_name": "Python 3"
    },
    "language_info": {
      "name": "python"
    }
  },
  "cells": [
    {
      "cell_type": "markdown",
      "metadata": {
        "id": "HwCL6NdcC1zD"
      },
      "source": [
        "#**TASK 2**"
      ]
    },
    {
      "cell_type": "markdown",
      "metadata": {
        "id": "uXqK-MSYPY0d"
      },
      "source": [
        "**Q1: List Comprehensions:**\n",
        "Let's learn about list comprehensions! You are given three integers X, Y and Z representing the dimensions of a cuboid \n",
        "along with an integer N. You have to print a list of all possible coordinates given by (i, j, k) on a 3D grid where the sum of i + j + k  is not \n",
        "equal to N. Here, 0 <= i <= X; 0 <= j <= Y; 0 <= k <= Z"
      ]
    },
    {
      "cell_type": "code",
      "metadata": {
        "colab": {
          "base_uri": "https://localhost:8080/"
        },
        "id": "69KE8ERMCuUi",
        "outputId": "43af4d58-e0db-4af1-9158-7bdec8cbc271"
      },
      "source": [
        "if __name__ == '__main__':\n",
        "    x = int(input())\n",
        "    y = int(input())\n",
        "    z = int(input())\n",
        "    n = int(input())\n",
        "    \n",
        "    x1 = [p for p in range(x+1)]\n",
        "    y1 = [q for q in range(y+1)]\n",
        "    z1 = [r for r in range(z+1)]\n",
        "    \n",
        "    permutations = [[i, j, k] for i in x1 for j in y1 for k in z1 if i + j + k != n]\n",
        "    print(permutations)"
      ],
      "execution_count": null,
      "outputs": [
        {
          "output_type": "stream",
          "text": [
            "2\n",
            "1\n",
            "3\n",
            "2\n",
            "[[0, 0, 0], [0, 0, 1], [0, 0, 3], [0, 1, 0], [0, 1, 2], [0, 1, 3], [1, 0, 0], [1, 0, 2], [1, 0, 3], [1, 1, 1], [1, 1, 2], [1, 1, 3], [2, 0, 1], [2, 0, 2], [2, 0, 3], [2, 1, 0], [2, 1, 1], [2, 1, 2], [2, 1, 3]]\n"
          ],
          "name": "stdout"
        }
      ]
    },
    {
      "cell_type": "markdown",
      "metadata": {
        "id": "MHV6bUK_CyTU"
      },
      "source": [
        "**Q2 :Find the runner-up score:** Given the participants' score sheet for your  University Sports Day, you are required to find the runner-up score. You are given  scores. Store them in a list and find the score of the runner-up.\n"
      ]
    },
    {
      "cell_type": "code",
      "metadata": {
        "colab": {
          "base_uri": "https://localhost:8080/"
        },
        "id": "CeRIC0hfNEah",
        "outputId": "db21f040-5ea8-4cfc-e627-4a06ad96eaac"
      },
      "source": [
        "if __name__ == '__main__':\n",
        "    n = int(input(\"Enter number of elements you want in array : \"))\n",
        "    arr = list(map(int, input(\"Enter the elements:\").split()))\n",
        "    #Set - prints unique values from list\n",
        "    new_arr=set(arr)\n",
        "    sort_arr=sorted(new_arr)\n",
        "    print(\"Sorted List : \",sort_arr)\n",
        "    print(\"Runner-up Score : \",sort_arr[-2])"
      ],
      "execution_count": null,
      "outputs": [
        {
          "output_type": "stream",
          "text": [
            "Enter number of elements you want in array : 6\n",
            "Enter the elements:10 5 3 8 2 5\n",
            "Sorted List :  [2, 3, 5, 8, 10]\n",
            "Runner-up Score :  8\n"
          ],
          "name": "stdout"
        }
      ]
    },
    {
      "cell_type": "markdown",
      "metadata": {
        "id": "co0Kb-q2OIm3"
      },
      "source": [
        "**Q4: Finding Percentage:** The provided code stub will read in a dictionary containing key/value pairs of name:[marks] for a list of students. Print the average of the marks array for the student name provided, showing 2 places after the decimal.\n"
      ]
    },
    {
      "cell_type": "code",
      "metadata": {
        "colab": {
          "base_uri": "https://localhost:8080/"
        },
        "id": "gppsMxxTN1ZU",
        "outputId": "1847954c-65e6-48b9-e8b0-a4628b1197ba"
      },
      "source": [
        "if __name__ == '__main__':\n",
        "    n = int(input(\"Enter the number of students record you want : \"))\n",
        "    student_marks = {}\n",
        "    for _ in range(n):\n",
        "        name, *line = input(\"Enter Name of student and Marks obtained : \").split()\n",
        "        scores = list(map(float, line))\n",
        "        student_marks[name] = scores\n",
        "    query_name = input(\"Enter the name of a student to query :\")\n",
        "    \n",
        "    scoresForName = student_marks[query_name]\n",
        "    # Calculates the average\n",
        "    average = sum(scoresForName) / len(scoresForName)\n",
        "    # Prints the average with 2 decimal places.\n",
        "    print( \"%.2f\" % average )"
      ],
      "execution_count": null,
      "outputs": [
        {
          "output_type": "stream",
          "text": [
            "Enter the number of students record you want : 3\n",
            "Enter Name of student and Marks obtained : Kish 91 65 78\n",
            "Enter Name of student and Marks obtained : Vaishnavi 89 67 70\n",
            "Enter Name of student and Marks obtained : Ishan 68 74 56 \n",
            "Enter the name of a student to query :Ishan\n",
            "66.00\n"
          ],
          "name": "stdout"
        }
      ]
    },
    {
      "cell_type": "markdown",
      "metadata": {
        "id": "kcwPFmfpPFF8"
      },
      "source": [
        "**Q5:Lists:**\n",
        "The provided code stub will read in a dictionary containing key/value pairs of name:[marks] for a list of students. \n",
        "Print the average of the marks array for the student name provided, showing 2 places after the decimal.\n"
      ]
    },
    {
      "cell_type": "code",
      "metadata": {
        "colab": {
          "base_uri": "https://localhost:8080/"
        },
        "id": "4vxNbCVFO95T",
        "outputId": "c0ae8f6e-61b1-4e8e-97bd-88b3ebfa7f3f"
      },
      "source": [
        "if __name__ == '__main__':\n",
        "    N = int(input())\n",
        "    \n",
        "    #Initializes the list.\n",
        "    list = []\n",
        "    \n",
        "    # Loop will run for the number of commands entered.\n",
        "    for i in range(N):\n",
        "        # Reads the line from input and splits it by spaces.\n",
        "        c = input().split()\n",
        "        # If the command was insert then the number is inserted in the proper position.\n",
        "        if c[0] == \"insert\" :\n",
        "            list.insert( int(c[1]), int(c[2]) )\n",
        "        # Prints the list.\n",
        "        elif c[0] == \"print\":\n",
        "            print(list)\n",
        "        # Deletes the first occurrence of the integer passed on the parameter.\n",
        "        elif c[0] == \"remove\":\n",
        "            list.remove(int(c[1]))\n",
        "        # Inserts the integer at the end of the list.\n",
        "        elif c[0] == \"append\":\n",
        "            list.append(int(c[1]))\n",
        "        # Sorts the list\n",
        "        elif c[0] == \"sort\":\n",
        "            list.sort()\n",
        "            print(list)\n",
        "        # Removes the last element of the list\n",
        "        elif c[0] == \"pop\":\n",
        "            list.pop()\n",
        "            print(list)\n",
        "        # Reverses the list.\n",
        "        elif c[0] == \"reverse\":\n",
        "            list.reverse()  \n",
        "            print(list)"
      ],
      "execution_count": null,
      "outputs": [
        {
          "output_type": "stream",
          "text": [
            "12\n",
            "insert 10 6\n",
            "insert 2 5\n",
            "insert 9 7\n",
            "insert  1 3\n",
            "print\n",
            "[6, 3, 5, 7]\n",
            "remove 6\n",
            "append 9\n",
            "append 1\n",
            "print\n",
            "[3, 5, 7, 9, 1]\n",
            "sort\n",
            "[1, 3, 5, 7, 9]\n",
            "pop\n",
            "[1, 3, 5, 7]\n",
            "reverse\n",
            "[7, 5, 3, 1]\n"
          ],
          "name": "stdout"
        }
      ]
    },
    {
      "cell_type": "markdown",
      "metadata": {
        "id": "zxGOpuWAPtYi"
      },
      "source": [
        "**Q6 : Tuples:** Given an integer, n, and n space-separated integers as input, create a tuple, t, of those n integers.Then compute and print the result of hash(t).\n",
        "Note: hash() is one of the functions in the __builtins__ module, so it need not be imported.\n"
      ]
    },
    {
      "cell_type": "code",
      "metadata": {
        "colab": {
          "base_uri": "https://localhost:8080/"
        },
        "id": "PukBEJztPjLh",
        "outputId": "115460e4-5dd8-4107-c384-941e7e676188"
      },
      "source": [
        "if __name__ == '__main__':\n",
        "    n = int(input())\n",
        "    integer_list = map(int,input().split())\n",
        "\n",
        "    # The tuple() function converts a list to a tuple.\n",
        "    tup = tuple(integer_list)\n",
        "            \n",
        "    # Prints the result of the hash function with parameter t.\n",
        "    print( hash(tup) )"
      ],
      "execution_count": null,
      "outputs": [
        {
          "output_type": "stream",
          "text": [
            "2\n",
            "1 3 \n",
            "3713081631933328131\n"
          ],
          "name": "stdout"
        }
      ]
    },
    {
      "cell_type": "markdown",
      "metadata": {
        "id": "cfgTJEdfQENf"
      },
      "source": [
        "**Q7: Intro to sets:**\n",
        "Now, let's use our knowledge of sets and help Mickey.Ms. Gabriel Williams is a botany professor at District College. \n",
        "One day, she asked her student Mickey to compute the average of all the plants with distinct heights in her greenhouse.\n",
        "Formula used: AVG = Sum of distinct heights / Total number of distinct heights \n",
        "Complete the average function in the editor below.\n",
        "Average has the following parameters:int arr: an array of integers"
      ]
    },
    {
      "cell_type": "code",
      "metadata": {
        "colab": {
          "base_uri": "https://localhost:8080/"
        },
        "id": "c8G0MFGMP-M1",
        "outputId": "d7e0123e-b189-4237-e6fa-ad84f0791e90"
      },
      "source": [
        "def average(array):\n",
        "    #Make set i.e take out distinct values and then calculate summation and length/total of set\n",
        "    sum_array = sum(set(array))\n",
        "    len_array = len(set(array))\n",
        "    #Take Average\n",
        "    Avg = sum_array/len_array\n",
        "    return Avg;\n",
        "if __name__ == '__main__':\n",
        "    n = int(input(\"Enter the number of elements you want in an array: \"))\n",
        "    height_of_plants = list(map(int, input(\"Enter the elements :\").split()))\n",
        "    result = average(height_of_plants)\n",
        "print(result)"
      ],
      "execution_count": null,
      "outputs": [
        {
          "output_type": "stream",
          "text": [
            "Enter the number of elements you want in an array: 10\n",
            "Enter the elements :12 6 9 2 5 3 10 15 7 4\n",
            "7.3\n"
          ],
          "name": "stdout"
        }
      ]
    },
    {
      "cell_type": "markdown",
      "metadata": {
        "id": "SJu0fu_gQS1K"
      },
      "source": [
        "**Q8: No Idea !**\n",
        "There is an array of n integers. There are also 2 disjoint sets, A and B, each containing m integers. \n",
        "You like all the integers in set A and dislike all the integers in set B. Your initial happiness is 0. \n",
        "For each i integer in the array, if i is in A, you add 1 to your happiness. If i is in B, you add -1 to your happiness. \n",
        "Otherwise, your happiness does not change. Output your final happiness at the end.\n"
      ]
    },
    {
      "cell_type": "code",
      "metadata": {
        "colab": {
          "base_uri": "https://localhost:8080/"
        },
        "id": "WR_xMigTQKAn",
        "outputId": "6e2a8a0e-36f3-4f49-8959-4d8039c916ed"
      },
      "source": [
        "#m = \"array max lenght >\"\n",
        "#n = \"number of elemets in sets\"\n",
        "n,m = list(map(int,input().split()))\n",
        "happiness = 0\n",
        "\n",
        "arr = list(map(int,input(\"Enter elements in array\").strip().split()))\n",
        "A = set(map(int,input(\"Enter elements in Set A: \").strip().split()))\n",
        "B = set(map(int,input(\"Enter elements in Set B: \").strip().split()))\n",
        "\n",
        "for i in arr:\n",
        "    if i in A:\n",
        "        happiness += 1\n",
        "    elif i in B:\n",
        "        happiness -= 1\n",
        "print(\"Your Total happiness: \",happiness)"
      ],
      "execution_count": null,
      "outputs": [
        {
          "output_type": "stream",
          "text": [
            "2 3\n",
            "Enter elements in array 2 9 11 6\n",
            "Enter elements in Set A: 8 9 3\n",
            "Enter elements in Set B: 2 11 8\n",
            "Your Total happiness:  -1\n"
          ],
          "name": "stdout"
        }
      ]
    },
    {
      "cell_type": "markdown",
      "metadata": {
        "id": "rF9pCqe3QtG7"
      },
      "source": [
        "**Q9: Symmetric Difference:**Given 2 sets of integers, M and N, print their symmetric difference in ascending order. The term symmetric difference indicates those\n",
        "values that exist in either M or N but do not exist in both.\n",
        "\"The term symmetric difference indicates those values that exist in either MM or NN but do not exist in both.\" "
      ]
    },
    {
      "cell_type": "code",
      "metadata": {
        "colab": {
          "base_uri": "https://localhost:8080/"
        },
        "id": "9Et7FjkoQjSl",
        "outputId": "62692434-e861-4b02-e6f0-18c2aba8f86a"
      },
      "source": [
        "num1 = int(input(\"Size of set1: \"))\n",
        "set1 = set(map(int,input(\"Enter elements :\").split()))\n",
        "num2 = int(input(\"Size of set2: \"))\n",
        "set2 = set(map(int,input(\"Enter elements :\").split()))\n",
        "symmetric_diff = (set1.difference(set2)).union(set2.difference(set1))\n",
        "for i in sorted(list(symmetric_diff)):\n",
        "        print(i)"
      ],
      "execution_count": null,
      "outputs": [
        {
          "output_type": "stream",
          "text": [
            "Size of set1: 5\n",
            "Enter elements :11 6 8 2 5\n",
            "Size of set2: 5\n",
            "Enter elements :11 3 6 7 1\n",
            "1\n",
            "2\n",
            "3\n",
            "5\n",
            "7\n",
            "8\n"
          ],
          "name": "stdout"
        }
      ]
    },
    {
      "cell_type": "markdown",
      "metadata": {
        "id": "c499sJ-NdZ1V"
      },
      "source": [
        "**Q.10: Set.add():**\n",
        "Apply your knowledge of the .add() operation to help your friend Rupal.\n",
        "Rupal has a huge collection of country stamps. She decided to count the total number of distinct country stamps in her collection. She\n",
        "asked for your help. You pick the stamps one by one from a stack of N country stamps.Find the total number of distinct country stamps."
      ]
    },
    {
      "cell_type": "code",
      "metadata": {
        "colab": {
          "base_uri": "https://localhost:8080/"
        },
        "id": "xg0wOr9zVMEl",
        "outputId": "72e1cab2-9eb3-44e2-c691-f154725e6060"
      },
      "source": [
        "num_stamp = int(input(\"Enter the total number of country stamps: \"))\n",
        "country_name = set()\n",
        "for i in range(num_stamp):\n",
        "    country_name.add(input(\"Enter the name of the country where the stamp is from :\"))\n",
        "print(\"Total number of distinct country stamps are: \",len(country_name))\n"
      ],
      "execution_count": null,
      "outputs": [
        {
          "output_type": "stream",
          "text": [
            "Enter the total number of country stamps: 6\n",
            "Enter the name of the country where the stamp is from :India\n",
            "Enter the name of the country where the stamp is from :UAE\n",
            "Enter the name of the country where the stamp is from :Finland\n",
            "Enter the name of the country where the stamp is from :Us\n",
            "Enter the name of the country where the stamp is from :India\n",
            "Enter the name of the country where the stamp is from :Japan\n",
            "Total number of distinct country stamps are:  5\n"
          ],
          "name": "stdout"
        }
      ]
    },
    {
      "cell_type": "markdown",
      "metadata": {
        "id": "Ypexggjg6GOw"
      },
      "source": [
        "**Q11: Set .discard(), .remove() & .pop()** : You have a non-empty set s, and you have to execute N commands given in N lines.\n",
        "\n",
        "The commands will be pop, remove and discard."
      ]
    },
    {
      "cell_type": "code",
      "metadata": {
        "id": "qXlZXWdBkHiq",
        "colab": {
          "base_uri": "https://localhost:8080/"
        },
        "outputId": "15c47e5e-80ad-4d9a-888e-ac0da8621bc5"
      },
      "source": [
        "n = int(input(\"Number of elements you want in the set :\"))\n",
        "s = set(map(int, input(\"Enter the elements: \").split()))\n",
        "Num = int(input(\"Number of operations you want to perform on set :\"))\n",
        "for _ in range(Num): \n",
        "  a = input().split(\"Enter the command : \")\n",
        "  if a[0]=='pop':\n",
        "     s.pop()\n",
        "  elif a[0]=='discard':\n",
        "     s.discard(int(a[1]))\n",
        "  elif a[0]=='remove':\n",
        "     s.remove(int(a[1]))\n",
        "print(sum(s))"
      ],
      "execution_count": null,
      "outputs": [
        {
          "output_type": "stream",
          "text": [
            "Number of elements you want in the set :6\n",
            "Enter the elements: 1 2 3 4 5 6\n",
            "Number of operations you want to perform on set :10\n",
            "pop\n",
            "remove 4\n",
            "discard 4\n",
            "remove 3\n",
            "pop\n",
            "remove 6\n",
            "discard 6\n",
            "pop\n",
            "discard 2\n",
            "\n",
            "15\n"
          ],
          "name": "stdout"
        }
      ]
    },
    {
      "cell_type": "markdown",
      "metadata": {
        "id": "yAodLpAr6huA"
      },
      "source": [
        "**Q.12 Set .union() Operation:**\n",
        "The students of District College have subscriptions to English and French newspapers. Some students have subscribed only to English, some have subscribed to only French and some have subscribed to both newspapers.You are given two sets of student roll numbers. One set has subscribed to the English newspaper, and the other set is subscribed to the French newspaper. The same student could be in both sets. Your task is to find the total number of students who have subscribed to at least one newspaper."
      ]
    },
    {
      "cell_type": "code",
      "metadata": {
        "colab": {
          "base_uri": "https://localhost:8080/"
        },
        "id": "Ob70BZFMKr04",
        "outputId": "5d0fb425-4510-4629-aefd-b2329af2ad60"
      },
      "source": [
        "S1 = int(input(\"Total number of students who have subscribed to the English newspaper: \"))\n",
        "Eng = set(input(\"Enter roll numbers of those students: \").split())\n",
        "S2= int(input(\"Total number of students who have subscribed to the French newspaper: \"))\n",
        "French = set(input(\"Enter roll numbers of those students:\").split())\n",
        "sol= Eng.union(French)\n",
        "print(\"Union: \",sol)\n",
        "print(len(sol))"
      ],
      "execution_count": null,
      "outputs": [
        {
          "output_type": "stream",
          "text": [
            "Total number of students who have subscribed to the English newspaper: 6\n",
            "Enter roll numbers of those students: 1 3 5 7 9 11\n",
            "Total number of students who have subscribed to the French newspaper: 7\n",
            "Enter roll numbers of those students:2 4 5 6 7 8 9 \n",
            "Union:  {'5', '7', '4', '2', '1', '6', '3', '9', '11', '8'}\n",
            "10\n"
          ],
          "name": "stdout"
        }
      ]
    },
    {
      "cell_type": "markdown",
      "metadata": {
        "id": "MCH3TZY9BIWZ"
      },
      "source": [
        "**Q.13 : Set .intersection() Operation**\n",
        "The students of District College have subscriptions to English and French newspapers. Some students have subscribed only to English, some have subscribed only to French, and some have subscribed to both newspapers.You are given two sets of student roll numbers. One set has subscribed to the English newspaper, one set has subscribed to the French newspaper. Your task is to find the total number of students who have subscribed to both newspapers."
      ]
    },
    {
      "cell_type": "code",
      "metadata": {
        "colab": {
          "base_uri": "https://localhost:8080/"
        },
        "id": "c5eitt2q8fs3",
        "outputId": "025c5928-b448-471c-ba84-dd9af366e0d2"
      },
      "source": [
        "S1 = input(\"Total number of students who have subscribed to the English newspaper: \")\n",
        "Eng = set(input(\"Enter roll numbers of those students: \").split())\n",
        "S2= input(\"Total number of students who have subscribed to the French newspaper: \")\n",
        "French = set(input(\"Enter roll numbers of those students:\").split())\n",
        "sol= Eng.intersection(French)\n",
        "print(\"Intersection: \",sol)\n",
        "print(len(sol))"
      ],
      "execution_count": null,
      "outputs": [
        {
          "output_type": "stream",
          "text": [
            "Total number of students who have subscribed to the English newspaper: 5\n",
            "Enter roll numbers of those students: 1 3 5 7 9\n",
            "Total number of students who have subscribed to the French newspaper: 6\n",
            "Enter roll numbers of those students:2 3 4 5 6 7\n",
            "Intersection:  {'3', '5', '7'}\n",
            "3\n"
          ],
          "name": "stdout"
        }
      ]
    },
    {
      "cell_type": "markdown",
      "metadata": {
        "id": "REtRCeAwBvsQ"
      },
      "source": [
        "**Q.14 : Set .difference() Operation**\n",
        "Students of District College have a subscription to English and French newspapers. Some students have subscribed to only the English newspaper, some have subscribed to only the French newspaper, and some have subscribed to both newspapers.You are given two sets of student roll numbers. One set has subscribed to the English newspaper, and one set has subscribed to the French newspaper. Your task is to find the total number of students who have subscribed to only English newspapers."
      ]
    },
    {
      "cell_type": "code",
      "metadata": {
        "colab": {
          "base_uri": "https://localhost:8080/"
        },
        "id": "msnDiDVfBv5T",
        "outputId": "a090432d-f23f-472f-d8cd-b067a0ad73eb"
      },
      "source": [
        "S1 = input(\"Total number of students who have subscribed to the English newspaper: \")\n",
        "Eng = set(input(\"Enter roll numbers of those students: \").split())\n",
        "S2= input(\"Total number of students who have subscribed to the French newspaper: \")\n",
        "French = set(input(\"Enter roll numbers of those students:\").split())\n",
        "sol= Eng.difference(French)\n",
        "print(\"Difference: \",sol)\n",
        "print(len(sol))"
      ],
      "execution_count": null,
      "outputs": [
        {
          "output_type": "stream",
          "text": [
            "Total number of students who have subscribed to the English newspaper: 6\n",
            "Enter roll numbers of those students: 10 12 14 16 18 20\n",
            "Total number of students who have subscribed to the French newspaper: 6\n",
            "Enter roll numbers of those students:5 10 15 20 25 30 \n",
            "Difference:  {'12', '14', '18', '16'}\n",
            "4\n"
          ],
          "name": "stdout"
        }
      ]
    },
    {
      "cell_type": "markdown",
      "metadata": {
        "id": "AT5Th9VBEoz4"
      },
      "source": [
        "**Q.15 :Set .symmetric_difference() Operation:** Students of District College have subscriptions to English and French newspapers. Some students have subscribed to English only, some have subscribed to French only, and some have subscribed to both newspapers.You are given two sets of student roll numbers. One set has subscribed to the English newspaper, and one set has subscribed to the French newspaper. Your task is to find the total number of students who have subscribed to either the English or the French newspaper but not both."
      ]
    },
    {
      "cell_type": "code",
      "metadata": {
        "colab": {
          "base_uri": "https://localhost:8080/"
        },
        "id": "9X2tVukPE6SV",
        "outputId": "30127a54-07a6-4cff-ac31-6ec5f8b1f592"
      },
      "source": [
        "S1 = input(\"Total number of students who have subscribed to the English newspaper: \")\n",
        "Eng = set(input(\"Enter roll numbers of those students: \").split())\n",
        "S2= input(\"Total number of students who have subscribed to the French newspaper: \")\n",
        "French = set(input(\"Enter roll numbers of those students:\").split())\n",
        "sol= Eng.symmetric_difference(French)\n",
        "print(\"Symmetric_difference: \",sol)\n",
        "print(len(sol)) "
      ],
      "execution_count": null,
      "outputs": [
        {
          "output_type": "stream",
          "text": [
            "Total number of students who have subscribed to the English newspaper: 6\n",
            "Enter roll numbers of those students: 1 2 3 4 5 6\n",
            "Total number of students who have subscribed to the French newspaper: 6\n",
            "Enter roll numbers of those students: 4 5 6 7 8 9\n",
            "Symmetric_difference:  {'7', '2', '1', '9', '3', '8'}\n",
            "6\n"
          ],
          "name": "stdout"
        }
      ]
    },
    {
      "cell_type": "markdown",
      "metadata": {
        "id": "qcpwkjpIGRto"
      },
      "source": [
        "**Q16. Set Mutations:** You are given a set A and N number of other sets. These N number of sets have to perform some specific mutation operations on set A.Your task is to execute those operations and print the sum of elements from set A ."
      ]
    },
    {
      "cell_type": "code",
      "metadata": {
        "colab": {
          "base_uri": "https://localhost:8080/"
        },
        "id": "TJlEflS0Hsjy",
        "outputId": "9d76ac79-995e-46e3-8aff-cea073b63b7b"
      },
      "source": [
        "n = int(input(\"Number of elements you want in the set :\"))\n",
        "s = set(map(int, input(\"Enter the elements: \").split()))\n",
        "Num = int(input(\"Number of operations you want to perform on set :\"))\n",
        "\n",
        "for i in range(Num):\n",
        "\tk = input(\"Enter the commands: \").split()\n",
        "\ts2 = set(map(int,input().split()))\n",
        "\tif k[0] == 'update':\n",
        "\t\ts.update(s2)\n",
        "\telif k[0] == 'intersection_update':\n",
        "\t\ts.intersection_update(s2)\n",
        "\telif k[0] == 'difference_update':\n",
        "\t\ts.difference_update(s2)\n",
        "\telif k[0] == 'symmetric_difference_update':\n",
        "\t\ts.symmetric_difference_update(s2)\n",
        "\telse:\n",
        "\t\tprint(\"Invalid parameters !! \")\n",
        "print(sum(s))"
      ],
      "execution_count": null,
      "outputs": [
        {
          "output_type": "stream",
          "text": [
            "Number of elements you want in the set :10\n",
            "Enter the elements: 1 2 3 4 5 6 7 8 9 10\n",
            "Number of operations you want to perform on set :4\n",
            "Enter the commands: intersection_update 6\n",
            "2 3 5 6 8 9 1 4 7 11\n",
            "Enter the commands: update 3\n",
            "55 65\n",
            "Enter the commands: symmetric_difference_update 8\n",
            "22 7 35 62 58\n",
            "Enter the commands: difference_update 7\n",
            "11 22 35 55 58 62 66\n",
            "103\n"
          ],
          "name": "stdout"
        }
      ]
    },
    {
      "cell_type": "markdown",
      "metadata": {
        "id": "AGUN7fpWO0Iv"
      },
      "source": [
        "**Q.17: The Captain's Room**\n",
        "Mr. Anant Asankhya is the manager at the INFINITE hotel. The hotel has an infinite amount of rooms.\n",
        "One fine day, a finite number of tourists come to stay at the hotel.\n",
        "The tourists consist of:\n",
        "→ A Captain.\n",
        "→ An unknown group of families consisting of K members per group where K ≠ 1.\n",
        "The Captain was given a separate room, and the rest were given one room per group.Mr. Anant has an unordered list of randomly arranged room entries. The list consists of the room numbers for all of the tourists. The room numbers will appear K times per group except for the Captain's room.Mr. Anant needs you to help him find the Captain's room number.The total number of tourists or the total number of groups of families is not known to you.\n",
        "You only know the value of K and the room number list.\n",
        "\n"
      ]
    },
    {
      "cell_type": "code",
      "metadata": {
        "id": "k_-pUxODO0bz",
        "colab": {
          "base_uri": "https://localhost:8080/"
        },
        "outputId": "198ec717-0382-4ec2-8791-d62c908e0fbd"
      },
      "source": [
        "k=input(\"Enter the size of each group: \");  #get rid of first line \n",
        "rooms=input().split();  #store all to array\n",
        "s1=set();  #all unique room number\n",
        "s2=set();  #all unique room number occur more than once\n",
        "for i in rooms:\n",
        "    if  i not in s1:\n",
        "      s1.add(i)\n",
        "      s2.add(i)\n",
        "    else:\n",
        "      s2.discard(i)\n",
        "        \n",
        "captain_room=s2.pop()\n",
        "print(captain_room)"
      ],
      "execution_count": 3,
      "outputs": [
        {
          "output_type": "stream",
          "text": [
            "Enter the size of each group: 5\n",
            "1 2 3 6 5 4 4 2 5 3 6 1 6 5 3 2 4 1 2 5 1 4 3 6 12 4 3 1 5 6 2 \n",
            "12\n"
          ],
          "name": "stdout"
        }
      ]
    },
    {
      "cell_type": "markdown",
      "metadata": {
        "id": "RAwpEhfFPdVD"
      },
      "source": [
        "**Q.18: Check Subset**\n",
        "You are given two sets, A and B. Your job is to find whether set A is a subset of set B.\n",
        "If set A is subset of set B, print True.\n",
        "If set A is not a subset of set B , print False."
      ]
    },
    {
      "cell_type": "code",
      "metadata": {
        "id": "HrDV6rloPxhF",
        "colab": {
          "base_uri": "https://localhost:8080/"
        },
        "outputId": "d14a8c5d-23c1-4904-ece0-3a3aeb2e70af"
      },
      "source": [
        "Task = int(input(\"Enter the number of test cases: \"))\n",
        "\n",
        "for _ in range(Task):\n",
        "    a = input(\"Enter number of elements in set A: \")\n",
        "    A = set(input(\"Enter the elements : \").split())\n",
        "    b = int(input(\"Enter number of elements in set B: \"))\n",
        "    B = set(input(\"Enter the elements :\").split())\n",
        "    print(A.issubset(B))"
      ],
      "execution_count": 5,
      "outputs": [
        {
          "output_type": "stream",
          "text": [
            "Enter the number of test cases: 3\n",
            "Enter number of elements in set A: 5\n",
            "Enter the elements : 1 2 3 4 5\n",
            "Enter number of elements in set B: 9\n",
            "Enter the elements :1 3 5 7 9 2 4 6 8\n",
            "True\n",
            "Enter number of elements in set A: 5\n",
            "Enter the elements : 11 22 33 44 55\n",
            "Enter number of elements in set B: 10\n",
            "Enter the elements :10 20 30 40 50 55 60 70 80 90\n",
            "False\n",
            "Enter number of elements in set A: 3\n",
            "Enter the elements : 100 200 300\n",
            "Enter number of elements in set B: 6\n",
            "Enter the elements :100 105 200 205 210\n",
            "False\n"
          ],
          "name": "stdout"
        }
      ]
    },
    {
      "cell_type": "markdown",
      "metadata": {
        "id": "-wAmbfZfPyU4"
      },
      "source": [
        "**Q.19: Check Strict Superset**\n",
        "You are given a set A  and  other n sets.\n",
        "Your job is to find whether set A is a strict superset of each of the N sets.\n",
        "Print True, if A is a strict superset of each of the N sets. Otherwise, print False.\n",
        "A strict superset has at least one element that does not exist in its subset."
      ]
    },
    {
      "cell_type": "code",
      "metadata": {
        "id": "3F87HYghQL7z",
        "colab": {
          "base_uri": "https://localhost:8080/"
        },
        "outputId": "16293652-2478-4ef9-8ba7-0d40cc0107e6"
      },
      "source": [
        "super_set=set(map(int,input(\"Enter space seperated elements in set A : \").split()))\n",
        "n=int(input(\"Number of sets: \"))\n",
        "output=True\n",
        "\n",
        "for i in range(n):\n",
        "    normal_set=set(map(int,input(\"Enter space seperated elements in other sets: \").split()))\n",
        "    if len(super_set)>len(normal_set):\n",
        "        if  not super_set.issuperset(normal_set):\n",
        "            output=False\n",
        "print(output)"
      ],
      "execution_count": 7,
      "outputs": [
        {
          "output_type": "stream",
          "text": [
            "Enter space seperated elements in set A : 1 2 3 4 5 6 7 8 9 10 11 12 23 45 84 78\n",
            "Number of sets: 2\n",
            "Enter space seperated elements in other sets: 1 3\n",
            "Enter space seperated elements in other sets: 101 201\n",
            "False\n"
          ],
          "name": "stdout"
        }
      ]
    }
  ]
}