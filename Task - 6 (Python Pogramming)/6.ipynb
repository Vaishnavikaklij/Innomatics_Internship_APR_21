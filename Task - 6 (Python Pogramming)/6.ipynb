{
  "nbformat": 4,
  "nbformat_minor": 0,
  "metadata": {
    "colab": {
      "name": "6.ipynb",
      "provenance": [],
      "collapsed_sections": []
    },
    "kernelspec": {
      "name": "python3",
      "display_name": "Python 3"
    },
    "language_info": {
      "name": "python"
    }
  },
  "cells": [
    {
      "cell_type": "markdown",
      "metadata": {
        "id": "RC2loj4roBdz"
      },
      "source": [
        "# **Task 6**"
      ]
    },
    {
      "cell_type": "markdown",
      "metadata": {
        "id": "_lP4a1G3JmM7"
      },
      "source": [
        "**Q1. Arrays:** The NumPy (Numeric Python) package helps us manipulate large arrays and matrices of numeric data. A NumPy array is a grid of values. They are similar to lists, except that every element of an array must be the same type.\n",
        "\n",
        "**Task:**\n",
        "You are given a space separated list of numbers.\n",
        "Your task is to print a reversed NumPy array with the element type float."
      ]
    },
    {
      "cell_type": "code",
      "metadata": {
        "id": "mwKJ_kmyk36l",
        "colab": {
          "base_uri": "https://localhost:8080/"
        },
        "outputId": "0a62a6f6-0236-43cc-e23a-87fee701594a"
      },
      "source": [
        "import numpy\n",
        "def arrays(arr):\n",
        "    #revrse array first, convert to float array with numpy\n",
        "    return(numpy.array(arr[::-1], float))\n",
        "\n",
        "arr = input().strip().split(' ')\n",
        "result = arrays(arr)\n",
        "print(result)"
      ],
      "execution_count": 1,
      "outputs": [
        {
          "output_type": "stream",
          "text": [
            "2 4 -8 6 -3\n",
            "[-3.  6. -8.  4.  2.]\n"
          ],
          "name": "stdout"
        }
      ]
    },
    {
      "cell_type": "markdown",
      "metadata": {
        "id": "zvQ_Jaw6KbPj"
      },
      "source": [
        "**Q.2 Shape and Reshape:**\n",
        "\n",
        "**Shape :**\n",
        "The shape tool gives a tuple of array dimensions and can be used to change the dimensions of an array.\n",
        "\n",
        "**Reshape:**\n",
        "The reshape tool gives a new shape to an array without changing its data. It creates a new array and does not modify the original array itself.\n",
        "\n",
        "**Task :**\n",
        "You are given a space separated list of nine integers. Your task is to convert this list into a 3X3 NumPy array."
      ]
    },
    {
      "cell_type": "code",
      "metadata": {
        "colab": {
          "base_uri": "https://localhost:8080/"
        },
        "id": "HSbM3VGPjwnB",
        "outputId": "c660641f-d14e-43c0-a30e-006f97d3726e"
      },
      "source": [
        "import numpy\n",
        "A = numpy.array(input(\"Enter 9 space separated integers: \").strip().split(),int)\n",
        "print(numpy.reshape(A,(3,3)))"
      ],
      "execution_count": 1,
      "outputs": [
        {
          "output_type": "stream",
          "text": [
            "Enter 9 space separated integers: 2 4 6 1 3 5 8 9 10\n",
            "[[ 2  4  6]\n",
            " [ 1  3  5]\n",
            " [ 8  9 10]]\n"
          ],
          "name": "stdout"
        }
      ]
    },
    {
      "cell_type": "markdown",
      "metadata": {
        "id": "79tkj6_SKXxQ"
      },
      "source": [
        ""
      ]
    },
    {
      "cell_type": "markdown",
      "metadata": {
        "id": "nKA7mDCjnS0L"
      },
      "source": [
        "**Q3. Transpose and Flatten:**\n",
        "\n",
        "**Transpose:** It generate the transposition of an array using the tool numpy.transpose. It won't affect the original array, but it will create a new array.\n",
        "\n",
        "**Flatten:** The tool flatten creates a copy of the input array flattened to one dimension.\n",
        "\n",
        "**Task:** You are given a N X M integer array matrix with space separated elements ( = rows and  = columns). Your task is to print the transpose and flatten results.\n"
      ]
    },
    {
      "cell_type": "code",
      "metadata": {
        "colab": {
          "base_uri": "https://localhost:8080/"
        },
        "id": "Oln0fU-Pr-P6",
        "outputId": "23098b43-b1ae-4022-e8ac-dff688d8554d"
      },
      "source": [
        "import numpy\n",
        "\n",
        "n, m = map(int, input().split())\n",
        "array = numpy.array([input().strip().split() for _ in range(n)], int)\n",
        "print (array.transpose())\n",
        "print (array.flatten())"
      ],
      "execution_count": 2,
      "outputs": [
        {
          "output_type": "stream",
          "text": [
            "2 3\n",
            "1 8\n",
            "6 9\n",
            "[[1 6]\n",
            " [8 9]]\n",
            "[1 8 6 9]\n"
          ],
          "name": "stdout"
        }
      ]
    },
    {
      "cell_type": "markdown",
      "metadata": {
        "id": "NxcCx6o7SB3g"
      },
      "source": [
        "**Q4. Concatenate:** \n",
        "\n",
        "**Task:** You are given two integer arrays of size N X P and M X P (N & M are rows, and P is the column). Your task is to concatenate the arrays along axis 0."
      ]
    },
    {
      "cell_type": "code",
      "metadata": {
        "colab": {
          "base_uri": "https://localhost:8080/"
        },
        "id": "fAfK3XtVvKJY",
        "outputId": "163a6de7-e5c1-4281-f028-180e9998ed2f"
      },
      "source": [
        "import numpy as np\n",
        "N, M, P = map(int,input().split())\n",
        "array_A = np.array([input(\"Enter elements for Array A: \").split() for _ in range(N)],int)\n",
        "array_B = np.array([input(\"Enter elements for Array B: \").split() for _ in range(M)],int)\n",
        "print(np.concatenate((array_A, array_B), axis = 0))\n"
      ],
      "execution_count": 3,
      "outputs": [
        {
          "output_type": "stream",
          "text": [
            "3 2 4\n",
            "Enter elements for Array A: 1 2\n",
            "Enter elements for Array A: 2 3\n",
            "Enter elements for Array A: 2 1\n",
            "Enter elements for Array B: 1 3\n",
            "Enter elements for Array B: 2 3\n",
            "[[1 2]\n",
            " [2 3]\n",
            " [2 1]\n",
            " [1 3]\n",
            " [2 3]]\n"
          ],
          "name": "stdout"
        }
      ]
    },
    {
      "cell_type": "markdown",
      "metadata": {
        "id": "tvp81Jv4ai5A"
      },
      "source": [
        "**Q5.Zeros and Ones:** \n",
        "\n",
        "**zeros:** The zeros tool returns a new array with a given shape and type filled with 0's.\n",
        "\n",
        "**ones:** The ones tool returns a new array with a given shape and type filled with 1's.\n",
        "\n",
        "**Task:**You are given the shape of the array in the form of space-separated integers, each integer representing the size of different dimensions, your task is to print an array of the given shape and integer type using the tools numpy.zeros and numpy.ones."
      ]
    },
    {
      "cell_type": "code",
      "metadata": {
        "colab": {
          "base_uri": "https://localhost:8080/"
        },
        "id": "5jbQEaM-Y1Ch",
        "outputId": "83157347-6d49-4984-c41a-cba3dbc0b0ed"
      },
      "source": [
        "import numpy\n",
        "nums = tuple(map(int, input().split()))\n",
        "print (numpy.zeros(nums, dtype = numpy.int))\n",
        "print (numpy.ones(nums, dtype = numpy.int))"
      ],
      "execution_count": 7,
      "outputs": [
        {
          "output_type": "stream",
          "text": [
            "2 3 3\n",
            "[[[0 0 0]\n",
            "  [0 0 0]\n",
            "  [0 0 0]]\n",
            "\n",
            " [[0 0 0]\n",
            "  [0 0 0]\n",
            "  [0 0 0]]]\n",
            "[[[1 1 1]\n",
            "  [1 1 1]\n",
            "  [1 1 1]]\n",
            "\n",
            " [[1 1 1]\n",
            "  [1 1 1]\n",
            "  [1 1 1]]]\n"
          ],
          "name": "stdout"
        }
      ]
    },
    {
      "cell_type": "markdown",
      "metadata": {
        "id": "RvtKWa91d6ED"
      },
      "source": [
        "**Q6. Eye and Identity:**\n",
        "\n",
        "**Identity:** The identity tool returns an identity array. An identity array is a square matrix with all the main diagonal elements as 1 and the rest as 0. The default type of elements is float.\n",
        "\n",
        "**Eye:** The eye tool returns a 2-D array with 1's as the diagonal and 0's elsewhere. The diagonal can be main, upper or lower depending on the optional parameter K. A positive K is for the upper diagonal, a negative K is for the lower, and a 0 K (default) is for the main diagonal.\n",
        "\n",
        "**Task:** Your task is to print an array of size N*M with its main diagonal elements as 1's and 0's everywhere else."
      ]
    },
    {
      "cell_type": "code",
      "metadata": {
        "colab": {
          "base_uri": "https://localhost:8080/"
        },
        "id": "XHlrSYEHeFPp",
        "outputId": "748f7e57-d29c-4841-ebc8-d5515d70bb25"
      },
      "source": [
        "numpy.set_printoptions(sign=' ')\n",
        "\n",
        "N, M = map(int, input().split())\n",
        "eye = numpy.eye(N, M)\n",
        "print(eye)"
      ],
      "execution_count": 9,
      "outputs": [
        {
          "output_type": "stream",
          "text": [
            "5 5\n",
            "[[ 1.  0.  0.  0.  0.]\n",
            " [ 0.  1.  0.  0.  0.]\n",
            " [ 0.  0.  1.  0.  0.]\n",
            " [ 0.  0.  0.  1.  0.]\n",
            " [ 0.  0.  0.  0.  1.]]\n"
          ],
          "name": "stdout"
        }
      ]
    },
    {
      "cell_type": "markdown",
      "metadata": {
        "id": "y0tZpx0BhT-r"
      },
      "source": [
        "**Q7. Array Mathematics:** Basic mathematical functions operate element-wise on arrays. They are available both as operator overloads and as functions in the NumPy module.\n",
        "\n",
        "**Task:**You are given two integer arrays, and of dimensions X. Your task is to perform the following operations: Add ( + ) Subtract ( - ) Multiply ( * ) Integer Division ( / ) Mod ( % ) Power ( ** )"
      ]
    },
    {
      "cell_type": "code",
      "metadata": {
        "colab": {
          "base_uri": "https://localhost:8080/"
        },
        "id": "pcb8GTAshKgj",
        "outputId": "ffe48ca3-800d-4409-d2bc-7aada56d61fb"
      },
      "source": [
        "n,m = map(int,input().split())\n",
        "a = numpy.array([input().split() for _ in range(n)],int)\n",
        "b = numpy.array([input().split() for _ in range(n)],int)\n",
        "print(a+b,a-b,a*b,a//b,a%b,a**b,sep=\"\\n\")\n"
      ],
      "execution_count": 11,
      "outputs": [
        {
          "output_type": "stream",
          "text": [
            "1 5\n",
            "1 2 3 4 5\n",
            "5 6 7 8 9\n",
            "[[ 6  8 10 12 14]]\n",
            "[[-4 -4 -4 -4 -4]]\n",
            "[[ 5 12 21 32 45]]\n",
            "[[0 0 0 0 0]]\n",
            "[[1 2 3 4 5]]\n",
            "[[      1      64    2187   65536 1953125]]\n"
          ],
          "name": "stdout"
        }
      ]
    },
    {
      "cell_type": "markdown",
      "metadata": {
        "id": "A1O48BNflhT9"
      },
      "source": [
        "**Q8. Floor, Ceil and Rint:** \n",
        "Given a 1-D array, A . Your task is to print the floor, ceil and rint of all the elements of A."
      ]
    },
    {
      "cell_type": "code",
      "metadata": {
        "colab": {
          "base_uri": "https://localhost:8080/"
        },
        "id": "M4xfT0gBlBNf",
        "outputId": "cc8c0517-eede-43d6-a5bd-89ff9233224e"
      },
      "source": [
        "numpy.set_printoptions(legacy = '1.13')\n",
        "a = numpy.array(input().split(),float)\n",
        "\n",
        "print(numpy.floor(a))\n",
        "print(numpy.ceil(a))\n",
        "print(numpy.rint(a))  \n"
      ],
      "execution_count": 12,
      "outputs": [
        {
          "output_type": "stream",
          "text": [
            "1.1 2.2 3.3 4.4 5.5 6.6 7.7 8.8 9.9\n",
            "[ 1.  2.  3.  4.  5.  6.  7.  8.  9.]\n",
            "[  2.   3.   4.   5.   6.   7.   8.   9.  10.]\n",
            "[  1.   2.   3.   4.   6.   7.   8.   9.  10.]\n"
          ],
          "name": "stdout"
        }
      ]
    },
    {
      "cell_type": "markdown",
      "metadata": {
        "id": "YxzNtgUvpFim"
      },
      "source": [
        "**Q9. Sum and Prod:**\n",
        "You are given a 2-D array with dimensions NXM.\n",
        "Your task is to perform the sum tool over axis 0 and then find the product of that result. \n"
      ]
    },
    {
      "cell_type": "code",
      "metadata": {
        "colab": {
          "base_uri": "https://localhost:8080/"
        },
        "id": "r67tubwzpyvT",
        "outputId": "7d9c875a-90d4-4051-d536-6c4194b375e8"
      },
      "source": [
        "N, M = map(int, input().split())\n",
        "A = numpy.array([input().split() for _ in range(N)],int)\n",
        "print(numpy.prod(numpy.sum(A, axis=0), axis=0))\n"
      ],
      "execution_count": 14,
      "outputs": [
        {
          "output_type": "stream",
          "text": [
            "2 2\n",
            "3 2\n",
            "2 5\n",
            "35\n"
          ],
          "name": "stdout"
        }
      ]
    },
    {
      "cell_type": "markdown",
      "metadata": {
        "id": "q5Q8Xo2csNTL"
      },
      "source": [
        "**Q.10 Min and Max:** You are given a 2-D array with dimensions N X M.\n",
        "Your task is to perform the min function over axis 1 and then find the max of that."
      ]
    },
    {
      "cell_type": "code",
      "metadata": {
        "colab": {
          "base_uri": "https://localhost:8080/"
        },
        "id": "7lgPWYdxtJ43",
        "outputId": "5fe2c303-cd15-4af7-8d6b-4565fb6af2cf"
      },
      "source": [
        "arr=[]\n",
        "n,m=map(int,input().split())\n",
        "for row in range(n):\n",
        "    my_arr=list(map(int,input().split()))\n",
        "    arr.append(my_arr)\n",
        "my_array=numpy.array(arr)\n",
        "result=numpy.min(my_array, axis = 1)\n",
        "print(max(result))\n"
      ],
      "execution_count": 17,
      "outputs": [
        {
          "output_type": "stream",
          "text": [
            "4 2\n",
            "9 1\n",
            "2 5\n",
            "8 6\n",
            "3 7\n",
            "6\n"
          ],
          "name": "stdout"
        }
      ]
    },
    {
      "cell_type": "markdown",
      "metadata": {
        "id": "54pS-yppt0I5"
      },
      "source": [
        "**Q11.Mean, Var, and Std:**\n",
        "\n",
        "Mean: The mean tool computes the arithmetic mean along the specified axis.\n",
        "Variance: The var tool computes the arithmetic variance along the specified axis.\n",
        "Std: The std tool computes the arithmetic standard deviation along the specified axis.\n",
        "\n",
        "**Task:** You are given a 2-D array of size X.\n",
        "Your task is to find:\n",
        "\n",
        "The mean along axis\n",
        "The var along axis\n",
        "The std along axis"
      ]
    },
    {
      "cell_type": "code",
      "metadata": {
        "colab": {
          "base_uri": "https://localhost:8080/"
        },
        "id": "Ns9RlZkguvON",
        "outputId": "99fcba3f-bb34-45ea-ba7a-e5defd9fcbf8"
      },
      "source": [
        "N,M = map(int,input().split())\n",
        "A = numpy.array([input().split() for _ in range(N)], int)\n",
        "print(A.mean(axis=1))\n",
        "print(A.var(axis=0))\n",
        "print(A.std())"
      ],
      "execution_count": 18,
      "outputs": [
        {
          "output_type": "stream",
          "text": [
            "2 2\n",
            "3 5\n",
            "4 2\n",
            "[ 4.  3.]\n",
            "[ 0.25  2.25]\n",
            "1.11803398875\n"
          ],
          "name": "stdout"
        }
      ]
    },
    {
      "cell_type": "markdown",
      "metadata": {
        "id": "m_3veyb-wIWU"
      },
      "source": [
        "**Q12. Dot and Cross:** You are given two arrays A and B. Both have dimensions of X.\n",
        "\n",
        "Your task is to compute their matrix product."
      ]
    },
    {
      "cell_type": "code",
      "metadata": {
        "colab": {
          "base_uri": "https://localhost:8080/"
        },
        "id": "hH_ZIzOJuwEi",
        "outputId": "3052d01f-265c-496c-eab7-4620b81c54d3"
      },
      "source": [
        "N = int(input())\n",
        "A = numpy.array([input(\"Enter for Array A: \").split() for i in range(N)], dtype =int)\n",
        "B = numpy.array([input(\"Enter for Array B: \").split() for i in range(N)], dtype =int)\n",
        "C = numpy.dot(A,B)\n",
        "print(C)"
      ],
      "execution_count": 19,
      "outputs": [
        {
          "output_type": "stream",
          "text": [
            "2\n",
            "Enter for Array A: 2 6\n",
            "Enter for Array A: 5 1\n",
            "Enter for Array B: 3 4\n",
            "Enter for Array B: 2 8\n",
            "[[18 56]\n",
            " [17 28]]\n"
          ],
          "name": "stdout"
        }
      ]
    },
    {
      "cell_type": "markdown",
      "metadata": {
        "id": "qe3pt976xHSe"
      },
      "source": [
        "**Q13.Inner and Outer:**\n",
        "You are given two arrays: and . Your task is to compute their inner and outer product."
      ]
    },
    {
      "cell_type": "code",
      "metadata": {
        "colab": {
          "base_uri": "https://localhost:8080/"
        },
        "id": "uZJVtfiXwzL2",
        "outputId": "c4b6ba28-109a-4398-df7c-1aad45f0eff7"
      },
      "source": [
        "a = numpy.array(input(\"Enter for Array A: \").split() , int)\n",
        "b = numpy.array(input(\"Enter for Array B: \").split() , int)\n",
        "print(\"------------Inner Product---------------\")\n",
        "print(numpy.inner(a, b))\n",
        "print(\"------------Outer Product---------------\")\n",
        "print(numpy.outer(a, b))\n"
      ],
      "execution_count": 21,
      "outputs": [
        {
          "output_type": "stream",
          "text": [
            "Enter for Array A: 0 1\n",
            "Enter for Array B: 4 5\n",
            "------------Inner Product---------------\n",
            "5\n",
            "------------Outer Product---------------\n",
            "[[0 0]\n",
            " [4 5]]\n"
          ],
          "name": "stdout"
        }
      ]
    },
    {
      "cell_type": "markdown",
      "metadata": {
        "id": "FISa8C3cybQR"
      },
      "source": [
        "**Q14. Polynomials:** You are given the coefficients of a polynomial P. Your task is to find the value of P at point x."
      ]
    },
    {
      "cell_type": "code",
      "metadata": {
        "colab": {
          "base_uri": "https://localhost:8080/"
        },
        "id": "KiafyPXbxqqI",
        "outputId": "19bfde61-b5af-4627-fea3-cf87e29a2449"
      },
      "source": [
        "m = numpy.array(input().split(), float)\n",
        "n = float(input())\n",
        "print(numpy.polyval(m, n))"
      ],
      "execution_count": 22,
      "outputs": [
        {
          "output_type": "stream",
          "text": [
            "1.2 2 3.1\n",
            "1\n",
            "6.3\n"
          ],
          "name": "stdout"
        }
      ]
    },
    {
      "cell_type": "markdown",
      "metadata": {
        "id": "AaESorEHzihL"
      },
      "source": [
        "**Q15. Linear Algebra:**\n",
        "You are given a square matrix A with dimensions N X N . Your task is to find the determinant."
      ]
    },
    {
      "cell_type": "code",
      "metadata": {
        "colab": {
          "base_uri": "https://localhost:8080/"
        },
        "id": "qj69i614zRXd",
        "outputId": "7f2a6349-a33f-4d5b-b317-637951b6d310"
      },
      "source": [
        "numpy.set_printoptions(legacy='1.13')\n",
        "N = int(input())\n",
        "A = numpy.array([input().split() for i in range(N)], float)\n",
        "print(numpy.linalg.det(A))"
      ],
      "execution_count": 28,
      "outputs": [
        {
          "output_type": "stream",
          "text": [
            "2\n",
            "3.4 2.5\n",
            "2.3 5.1\n",
            "11.59\n"
          ],
          "name": "stdout"
        }
      ]
    },
    {
      "cell_type": "code",
      "metadata": {
        "id": "bY2BRAKS0EpM"
      },
      "source": [
        " 6"
      ],
      "execution_count": null,
      "outputs": []
    }
  ]
}