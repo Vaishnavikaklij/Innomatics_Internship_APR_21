{
  "nbformat": 4,
  "nbformat_minor": 0,
  "metadata": {
    "colab": {
      "name": "4.ipynb",
      "provenance": [],
      "collapsed_sections": []
    },
    "kernelspec": {
      "name": "python3",
      "display_name": "Python 3"
    },
    "language_info": {
      "name": "python"
    }
  },
  "cells": [
    {
      "cell_type": "markdown",
      "metadata": {
        "id": "CO2GOd23K6uv"
      },
      "source": [
        "##**TASK 4**"
      ]
    },
    {
      "cell_type": "markdown",
      "metadata": {
        "id": "DNqU6vAvLANB"
      },
      "source": [
        "**Q.1. sWAP cASE :**\n",
        "You are given a string and your task is to swap cases. In other words, convert all lowercase letters to uppercase letters and vice versa."
      ]
    },
    {
      "cell_type": "code",
      "metadata": {
        "colab": {
          "base_uri": "https://localhost:8080/"
        },
        "id": "6gj6hgOmKgfO",
        "outputId": "6d6219ea-5be3-48b6-e735-a2fefb5e1d12"
      },
      "source": [
        "def swap_case(s):\n",
        "    return (s.swapcase())\n",
        "if __name__=='__main__':\n",
        "    s=input()\n",
        "    result=swap_case(s)\n",
        "    print(result)\n"
      ],
      "execution_count": null,
      "outputs": [
        {
          "output_type": "stream",
          "text": [
            "Pythonist 2\n",
            "pYTHONIST 2\n"
          ],
          "name": "stdout"
        }
      ]
    },
    {
      "cell_type": "markdown",
      "metadata": {
        "id": "Yf39G04ZL11J"
      },
      "source": [
        "**Q.2. String Split and Join:**   \n",
        "\n",
        "**String split:** In Python, a string can be split on a delimiter.          \n",
        "Example:                \n",
        "a = \"this is a string\"                     \n",
        "a = a.split(\" \") # a is converted to a list of strings. \n",
        "print a                              \n",
        "Output : ['this', 'is', 'a', 'string']\n",
        "\n",
        "**Joining a string is simple:**                   \n",
        "a = \"-\".join(a)                 \n",
        "print a                          \n",
        "Output: this-is-a-string \n",
        "\n",
        "**Task- You are given a string. Split the string on a \" \" (space) delimiter and join using a - hyphen.**"
      ]
    },
    {
      "cell_type": "code",
      "metadata": {
        "colab": {
          "base_uri": "https://localhost:8080/"
        },
        "id": "c_r2zl_vLLYH",
        "outputId": "c36a179c-32ae-4492-9a86-91fce26628f3"
      },
      "source": [
        "def split_and_join(line):\n",
        "    line=line.split(\" \")\n",
        "    line='-'.join(line)\n",
        "    return line\n",
        "\n",
        "if __name__ == '__main__':\n",
        "    line = input()\n",
        "    output = split_and_join(line)\n",
        "    print(output)"
      ],
      "execution_count": null,
      "outputs": [
        {
          "output_type": "stream",
          "text": [
            "Welcome to world of python programming\n",
            "Welcome-to-world-of-python-programming\n"
          ],
          "name": "stdout"
        }
      ]
    },
    {
      "cell_type": "markdown",
      "metadata": {
        "id": "y1stf8HhNOiv"
      },
      "source": [
        "**Q.3.Mutations:**                \n",
        "\n",
        "We have seen that lists are mutable (they can be changed), and tuples are immutable (they cannot be changed).                                                          \n",
        "**Task**\n",
        "Read a given string, change the character at a given index and then print the modified string.                               \n",
        "**Function Description:**                           \n",
        "Complete the mutate_string function in the editor below.\n",
        "mutate_string has the following parameters:\n",
        "string string: the string to change\n",
        "int position: the index to insert the character at\n",
        "string character: the character to insert"
      ]
    },
    {
      "cell_type": "code",
      "metadata": {
        "id": "NZbP99v0NEzv",
        "colab": {
          "base_uri": "https://localhost:8080/"
        },
        "outputId": "aec18cd2-61bd-4ac9-fff2-39ff90373211"
      },
      "source": [
        "def mutate_string(string, position, character):\n",
        "    string = string[:position]+character+string[position+1:]\n",
        "    return string\n",
        "\n",
        "if __name__ == '__main__':\n",
        "    s = input()\n",
        "    i, c = input().split()\n",
        "    s_new = mutate_string(s, int(i), c)\n",
        "    print(s_new)"
      ],
      "execution_count": null,
      "outputs": [
        {
          "output_type": "stream",
          "text": [
            "abracadabra\n",
            "3 b\n",
            "abrbcadabra\n"
          ],
          "name": "stdout"
        }
      ]
    },
    {
      "cell_type": "markdown",
      "metadata": {
        "id": "b3PRzin4Wkjb"
      },
      "source": [
        "**Q.4. What's Your Name?**               \n",
        "You are given the firstname and lastname of a person on two different lines. Your task is to read them and print the following:\n",
        "\n",
        "Hello firstname lastname! You just delved into python."
      ]
    },
    {
      "cell_type": "code",
      "metadata": {
        "colab": {
          "base_uri": "https://localhost:8080/"
        },
        "id": "agPup5KJWSMl",
        "outputId": "8160769a-8af8-4fa0-f4a4-a42ca3ae985e"
      },
      "source": [
        "def print_full_name(first, last):\n",
        "    print(\"Hello \"+first_name +\" \"+last_name+\"! You just delved into python.\")\n",
        "\n",
        "if __name__ == '__main__':\n",
        "    first_name = input()\n",
        "    last_name = input()\n",
        "    print_full_name(first_name, last_name)"
      ],
      "execution_count": null,
      "outputs": [
        {
          "output_type": "stream",
          "text": [
            "Ross Taylor\n",
            "Vaishnavi Kaklij\n",
            "Hello Ross Taylor Vaishnavi Kaklij! You just delved into python.\n"
          ],
          "name": "stdout"
        }
      ]
    },
    {
      "cell_type": "markdown",
      "metadata": {
        "id": "Ei7kb7HJXYuT"
      },
      "source": [
        "**Q.5. Find a string**                       \n",
        "In this challenge, the user enters a string and a substring. You have to print the number of times that the substring occurs in the given string. String traversal will take place from left to right, not from right to left.\n",
        "\n",
        "NOTE: String letters are case-sensitive."
      ]
    },
    {
      "cell_type": "code",
      "metadata": {
        "colab": {
          "base_uri": "https://localhost:8080/"
        },
        "id": "ziK9co-JXJoD",
        "outputId": "f127f950-c5a4-4693-df9f-a257536474cd"
      },
      "source": [
        "def count_substring(string, sub_string):\n",
        "    ctr=0\n",
        "    for i in range(len(string)):\n",
        "        if string[i:i+len(sub_string)]==sub_string:\n",
        "            ctr+=1\n",
        "    return ctr\n",
        "\n",
        "if __name__ == '__main__':\n",
        "    string = input().strip()\n",
        "    sub_string = input().strip()\n",
        "    \n",
        "    count = count_substring(string, sub_string)\n",
        "    print(count)"
      ],
      "execution_count": null,
      "outputs": [
        {
          "output_type": "stream",
          "text": [
            "XYZYZ\n",
            "YZ\n",
            "2\n"
          ],
          "name": "stdout"
        }
      ]
    },
    {
      "cell_type": "markdown",
      "metadata": {
        "id": "6HvrZgUOYmTh"
      },
      "source": [
        "**Q.6. String Validators**\n",
        "\n",
        "Python has built-in string validation methods for basic data. It can check if a string is composed of alphabetical characters, alphanumeric characters, digits, etc.\n",
        "\n",
        "**Task**\n",
        "You are given a string S.\n",
        "Your task is to find out if the string S contains: alphanumeric characters, alphabetical characters, digits, lowercase and uppercase characters."
      ]
    },
    {
      "cell_type": "code",
      "metadata": {
        "colab": {
          "base_uri": "https://localhost:8080/"
        },
        "id": "c_NrHkOKYMg-",
        "outputId": "8070d255-974c-42b6-ebaa-76b8b477450a"
      },
      "source": [
        "s = input(\"Enter a String: \")\n",
        "print(any([char.isalnum() for char in s]))\n",
        "print(any([char.isalpha() for char in s]))\n",
        "print(any([char.isdigit() for char in s]))\n",
        "print(any([char.islower() for char in s]))\n",
        "print(any([char.isupper() for char in s]))"
      ],
      "execution_count": null,
      "outputs": [
        {
          "output_type": "stream",
          "text": [
            "Enter a String: qA2\n",
            "True\n",
            "True\n",
            "True\n",
            "True\n",
            "True\n"
          ],
          "name": "stdout"
        }
      ]
    },
    {
      "cell_type": "markdown",
      "metadata": {
        "id": "dYiG6S0BZnZK"
      },
      "source": [
        "**Q.7.Text Alignment**                \n",
        "In Python, a string of text can be aligned left, right and center.\n",
        "You are given a partial code that is used for generating the HackerRank Logo of variable thickness.\n",
        "Your task is to replace the blank (______) with rjust, ljust or center.\n"
      ]
    },
    {
      "cell_type": "code",
      "metadata": {
        "colab": {
          "base_uri": "https://localhost:8080/"
        },
        "id": "y7n0_5eaZdmQ",
        "outputId": "0e2ea0c4-b988-4461-8625-bad23567fc57"
      },
      "source": [
        "thickness = int(input()) #This must be an odd number\n",
        "c = 'H'\n",
        "\n",
        "#Top Cone\n",
        "for i in range(thickness):\n",
        "    print((c*i).rjust(thickness-1)+c+(c*i).ljust(thickness-1))\n",
        "\n",
        "#Top Pillars\n",
        "for i in range(thickness+1):\n",
        "    print((c*thickness).center(thickness*2)+(c*thickness).center(thickness*6))\n",
        "\n",
        "#Middle Belt\n",
        "for i in range((thickness+1)//2):\n",
        "    print((c*thickness*5).center(thickness*6))    \n",
        "\n",
        "#Bottom Pillars\n",
        "for i in range(thickness+1):\n",
        "    print((c*thickness).center(thickness*2)+(c*thickness).center(thickness*6))    \n",
        "\n",
        "#Bottom Cone\n",
        "for i in range(thickness):\n",
        "    print(((c*(thickness-i-1)).rjust(thickness)+c+(c*(thickness-i-1)).ljust(thickness)).rjust(thickness*6))"
      ],
      "execution_count": null,
      "outputs": [
        {
          "output_type": "stream",
          "text": [
            "3\n",
            "  H  \n",
            " HHH \n",
            "HHHHH\n",
            " HHH         HHH        \n",
            " HHH         HHH        \n",
            " HHH         HHH        \n",
            " HHH         HHH        \n",
            " HHHHHHHHHHHHHHH  \n",
            " HHHHHHHHHHHHHHH  \n",
            " HHH         HHH        \n",
            " HHH         HHH        \n",
            " HHH         HHH        \n",
            " HHH         HHH        \n",
            "            HHHHH \n",
            "             HHH  \n",
            "              H   \n"
          ],
          "name": "stdout"
        }
      ]
    },
    {
      "cell_type": "markdown",
      "metadata": {
        "id": "LbsYi_-XattV"
      },
      "source": [
        "**Q.8. Text Wrap**                    \n",
        "You are given a string s and width w.\n",
        "Your task is to wrap the string s into a paragraph of width w.\n"
      ]
    },
    {
      "cell_type": "code",
      "metadata": {
        "colab": {
          "base_uri": "https://localhost:8080/"
        },
        "id": "8mcxS67Tahd3",
        "outputId": "58d3b1bb-2b10-4b09-af00-9cd1af13e11f"
      },
      "source": [
        "import textwrap\n",
        "def wrap(string,max_length):\n",
        "    return \"\\n\".join(textwrap.wrap(string,max_length))\n",
        "if __name__=='__main__':\n",
        "    string,max_length=input(),int(input())\n",
        "    result=wrap(string,max_length)\n",
        "    print(result)"
      ],
      "execution_count": null,
      "outputs": [
        {
          "output_type": "stream",
          "text": [
            "ABCDEFGHIJKLIMNOQRSTUVWXYZ\n",
            "3\n",
            "ABC\n",
            "DEF\n",
            "GHI\n",
            "JKL\n",
            "IMN\n",
            "OQR\n",
            "STU\n",
            "VWX\n",
            "YZ\n"
          ],
          "name": "stdout"
        }
      ]
    },
    {
      "cell_type": "markdown",
      "metadata": {
        "id": "A6UyoN7tbeZr"
      },
      "source": [
        "**Q.9.Designer Door Mat**\n",
        "Mr. Vincent works in a door mat manufacturing company. One day, he designed a new door mat with the following specifications:\n",
        "\n",
        "Mat size must be N X M. ( N is an odd natural number, and M is 3 times N .)\n",
        "The design should have 'WELCOME' written in the center.\n",
        "The design pattern should only use |, . and - characters."
      ]
    },
    {
      "cell_type": "code",
      "metadata": {
        "colab": {
          "base_uri": "https://localhost:8080/"
        },
        "id": "nx3R2PpQbNSQ",
        "outputId": "ec0c4dd7-582e-429a-fb94-17049414862c"
      },
      "source": [
        "N,M=map(int,input().split(\" \"))\n",
        "for i in range(N):\n",
        "    p=\".|.\"\n",
        "    if i < (N-1)/2:\n",
        "        print((p*(2*i+1)).center(M,'-'))\n",
        "    elif i==(N-1)/2:\n",
        "        print(\"WELCOME\".center(M,\"-\"))\n",
        "    else:\n",
        "        print((p*(2*(N-1-i)+1)).center(M,\"-\"))"
      ],
      "execution_count": null,
      "outputs": [
        {
          "output_type": "stream",
          "text": [
            "9 27\n",
            "------------.|.------------\n",
            "---------.|..|..|.---------\n",
            "------.|..|..|..|..|.------\n",
            "---.|..|..|..|..|..|..|.---\n",
            "----------WELCOME----------\n",
            "---.|..|..|..|..|..|..|.---\n",
            "------.|..|..|..|..|.------\n",
            "---------.|..|..|.---------\n",
            "------------.|.------------\n"
          ],
          "name": "stdout"
        }
      ]
    },
    {
      "cell_type": "markdown",
      "metadata": {
        "id": "pHpB9_bicXNu"
      },
      "source": [
        "**Q.10. String Formatting**                 \n",
        "Given an integer, n , print the following values for each integer i from 1 to n:\n",
        "\n",
        "* Decimal\n",
        "* Octal\n",
        "* Hexadecimal (capitalized)\n",
        "* Binary"
      ]
    },
    {
      "cell_type": "code",
      "metadata": {
        "id": "bD26kexdcNeM",
        "colab": {
          "base_uri": "https://localhost:8080/"
        },
        "outputId": "2b5590cb-772f-4a7a-892f-2645611f63f1"
      },
      "source": [
        "def print_formatted(number):\n",
        "    w=len(bin(n)[2:])\n",
        "    for i in range(1,n+1):\n",
        "        print(str(i).rjust(w),oct(i)[2:].rjust(w),hex(i)[2:].upper().rjust(w),bin(i)[2:].rjust(w))\n",
        "    \n",
        "\n",
        "if __name__ == '__main__':\n",
        "    n = int(input())\n",
        "    print_formatted(n)\n",
        "    "
      ],
      "execution_count": 9,
      "outputs": [
        {
          "output_type": "stream",
          "text": [
            "15\n",
            "   1    1    1    1\n",
            "   2    2    2   10\n",
            "   3    3    3   11\n",
            "   4    4    4  100\n",
            "   5    5    5  101\n",
            "   6    6    6  110\n",
            "   7    7    7  111\n",
            "   8   10    8 1000\n",
            "   9   11    9 1001\n",
            "  10   12    A 1010\n",
            "  11   13    B 1011\n",
            "  12   14    C 1100\n",
            "  13   15    D 1101\n",
            "  14   16    E 1110\n",
            "  15   17    F 1111\n"
          ],
          "name": "stdout"
        }
      ]
    },
    {
      "cell_type": "markdown",
      "metadata": {
        "id": "4klNbNlndU89"
      },
      "source": [
        "**Q.11. Alphabet Rangoli**                \n",
        "You are given an integer, N . Your task is to print an alphabet rangoli of size N . (Rangoli is a form of Indian folk art based on creation of patterns.)\n",
        "The center of the rangoli has the first alphabet letter a, and the boundary has the  alphabet letter (in alphabetical order)."
      ]
    },
    {
      "cell_type": "code",
      "metadata": {
        "colab": {
          "base_uri": "https://localhost:8080/"
        },
        "id": "7ZENFdwJdMAy",
        "outputId": "ea51a5ca-0b71-4d56-b8a4-b44416e45c6f"
      },
      "source": [
        "n = int(input())\n",
        "for i in range(n):\n",
        "    s = \"-\".join(chr(ord('a')+n-j-1) for j in range(i+1))\n",
        "    print((s+s[::-1][1:]).center(n*4-3, '-'))\n",
        "\n",
        "for i in range(n-1):\n",
        "    s = \"-\".join(chr(ord('a')+n-j-1) for j in range(n-i-1))\n",
        "    print((s+s[::-1][1:]).center(n*4-3, '-'))"
      ],
      "execution_count": 10,
      "outputs": [
        {
          "output_type": "stream",
          "text": [
            "3\n",
            "----c----\n",
            "--c-b-c--\n",
            "c-b-a-b-c\n",
            "--c-b-c--\n",
            "----c----\n"
          ],
          "name": "stdout"
        }
      ]
    },
    {
      "cell_type": "markdown",
      "metadata": {
        "id": "wUYt9dCCeNEQ"
      },
      "source": [
        "**Q.12. Capitalize!**                \n",
        "You are asked to ensure that the first and last names of people begin with a capital letter in their passports. For example, **alison heck** should be capitalised correctly as **Alison Heck**.\n",
        "\n",
        "Given a full name, your task is to capitalize the name appropriately.\n",
        "\n",
        "\n"
      ]
    },
    {
      "cell_type": "code",
      "metadata": {
        "colab": {
          "base_uri": "https://localhost:8080/"
        },
        "id": "LL3rcg5meJfP",
        "outputId": "f997ce60-a0ba-4f4e-d2c8-81f3eddbdd58"
      },
      "source": [
        "import math\n",
        "import os\n",
        "import random\n",
        "import re\n",
        "import sys\n",
        "\n",
        "def solve(s):\n",
        "    a=[]\n",
        "    for i in s.split(' '):\n",
        "        a.append(i.capitalize())\n",
        "    return ' '.join(a)\n",
        "\n",
        "if __name__ == '__main__':\n",
        "    s = input()\n",
        "    result = solve(s)\n",
        "    print(result)\n"
      ],
      "execution_count": 12,
      "outputs": [
        {
          "output_type": "stream",
          "text": [
            "where there is will there is a way\n",
            "Where There Is Will There Is A Way\n"
          ],
          "name": "stdout"
        }
      ]
    },
    {
      "cell_type": "markdown",
      "metadata": {
        "id": "xCm4Qoihe_GP"
      },
      "source": [
        "**Q.12. The Minion Game**       \n",
        "Kevin and Stuart want to play the 'The Minion Game'.\n",
        "\n",
        "**Game Rules**\n",
        "\n",
        "Both players are given the same string,S .                \n",
        "Both players have to make substrings using the letters of the string S.        \n",
        "Stuart has to make words starting with consonants.              \n",
        "Kevin has to make words starting with vowels.                 \n",
        "The game ends when both players have made all possible substrings.\n",
        "\n",
        "**Scoring**                    \n",
        "A player gets +1 point for each occurrence of the substring in the string . \n",
        "\n",
        "For Example:\n",
        "String S = BANANA\n",
        "Kevin's vowel beginning word = ANA\n",
        "Here, ANA occurs twice in BANANA. Hence, Kevin will get 2 Points."
      ]
    },
    {
      "cell_type": "code",
      "metadata": {
        "colab": {
          "base_uri": "https://localhost:8080/"
        },
        "id": "ykIqXGt9eyw4",
        "outputId": "6c364f13-ec16-40ac-8b63-951c33fc4df3"
      },
      "source": [
        "def minion_game(string):\n",
        "    # your code goes here\n",
        "    stuart=0\n",
        "    kevin=0\n",
        "    for i in range(len(string)):\n",
        "        if string[i] in \"AEIOU\":\n",
        "            kevin=kevin+len(string)-i\n",
        "        else:\n",
        "            stuart=stuart+len(string)-i\n",
        "    if stuart==kevin:\n",
        "        print(\"Draw\")\n",
        "    elif stuart>kevin:\n",
        "        print(f\"Stuart {stuart}\")\n",
        "    else:\n",
        "        print(f\"Kevin {kevin}\")\n",
        "if __name__ == '__main__':\n",
        "    s = input()\n",
        "    minion_game(s)"
      ],
      "execution_count": 14,
      "outputs": [
        {
          "output_type": "stream",
          "text": [
            "Banana\n",
            "Stuart 21\n"
          ],
          "name": "stdout"
        }
      ]
    },
    {
      "cell_type": "code",
      "metadata": {
        "id": "tPHYfk1zhgG3"
      },
      "source": [
        ""
      ],
      "execution_count": null,
      "outputs": []
    }
  ]
}