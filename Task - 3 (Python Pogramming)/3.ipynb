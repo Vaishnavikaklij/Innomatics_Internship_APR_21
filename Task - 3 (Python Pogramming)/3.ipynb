{
  "nbformat": 4,
  "nbformat_minor": 0,
  "metadata": {
    "colab": {
      "name": "3.ipynb",
      "provenance": [],
      "collapsed_sections": []
    },
    "kernelspec": {
      "name": "python3",
      "display_name": "Python 3"
    },
    "language_info": {
      "name": "python"
    }
  },
  "cells": [
    {
      "cell_type": "markdown",
      "metadata": {
        "id": "5pxD5wWe-zin"
      },
      "source": [
        "# **TASK 3**"
      ]
    },
    {
      "cell_type": "markdown",
      "metadata": {
        "id": "NT6UALCF_HYW"
      },
      "source": [
        "**Q1. Polar Coordinates:**\n",
        "You are given a complex z. Your task is to convert it to polar coordinates."
      ]
    },
    {
      "cell_type": "code",
      "metadata": {
        "colab": {
          "base_uri": "https://localhost:8080/"
        },
        "id": "gHoFl8Q5-uoK",
        "outputId": "a098199a-0a07-4e21-94f0-d7237d513353"
      },
      "source": [
        "import cmath\n",
        "z=complex(input(\"Enter the complex number: \"))\n",
        "r=abs(z)\n",
        "theta=cmath.phase(z)\n",
        "print(\"Value of r: \" ,r)\n",
        "print(\"Value of theta: \",theta)"
      ],
      "execution_count": null,
      "outputs": [
        {
          "output_type": "stream",
          "text": [
            "Enter the complex number: 2+5j\n",
            "Value of r:  5.385164807134504\n",
            "Value of theta:  1.1902899496825317\n"
          ],
          "name": "stdout"
        }
      ]
    },
    {
      "cell_type": "markdown",
      "metadata": {
        "id": "5CLYKx3g-yie"
      },
      "source": [
        "**Q2. Find Angle MBC :**\n",
        "ABC is a right triangle, 90° at B. Therefore, ABC = 90°.Point M is the midpoint of hypotenuse AC.You are given the lengths AB and BC.Your task is to find MBC (angle) in degrees."
      ]
    },
    {
      "cell_type": "code",
      "metadata": {
        "colab": {
          "base_uri": "https://localhost:8080/"
        },
        "id": "H8tG8DUte8x8",
        "outputId": "16a55ae6-a54b-47eb-8571-aa5e9453f185"
      },
      "source": [
        "import math\n",
        "AB,BC=int(input(\"Length of side AB: \")),int(input(\"Length of side BC: \"))\n",
        "res=str(round(math.degrees(math.atan2(AB, BC))))\n",
        "degree=chr(176)                                    #for DEGREE symbol\n",
        "print(res,degree, sep='')"
      ],
      "execution_count": null,
      "outputs": [
        {
          "output_type": "stream",
          "text": [
            "Length of side AB: 10\n",
            "Length of side BC: 15\n",
            "34°\n"
          ],
          "name": "stdout"
        }
      ]
    },
    {
      "cell_type": "markdown",
      "metadata": {
        "id": "X0dtmUMjmvly"
      },
      "source": [
        "**Q3. Triangle Quest:** are given a positive integer N. Print a numerical triangle of height N - 1 like the one below:\n",
        "\n",
        "1 \n",
        "\n",
        "22\n",
        "\n",
        "333\n",
        "\n",
        "4444\n",
        "\n",
        "55555\n",
        "\n",
        "Logic: \n",
        "(10^1 / 9) * 1 =1; (10^2 / 9) * 2 = 22; (10^3 / 9) * 3 =333 ...\n",
        "\n",
        "\n"
      ]
    },
    {
      "cell_type": "code",
      "metadata": {
        "colab": {
          "base_uri": "https://localhost:8080/"
        },
        "id": "Pv3oFWZumuN7",
        "outputId": "c8393e23-1c4f-4ea9-87e7-b0ed7cdfa151"
      },
      "source": [
        "for i in range(1,int(input())): #More than 2 lines will result in 0 score. Do not leave a blank line also\n",
        "    print(int(i * 10**i / 9))"
      ],
      "execution_count": null,
      "outputs": [
        {
          "output_type": "stream",
          "text": [
            "6\n",
            "1\n",
            "22\n",
            "333\n",
            "4444\n",
            "55555\n"
          ],
          "name": "stdout"
        }
      ]
    },
    {
      "cell_type": "markdown",
      "metadata": {
        "id": "BUJ6hhw65HZG"
      },
      "source": [
        "**Q4. Triangle Quest 2 :**\n",
        "You are given a positive integer N.\n",
        "Your task is to print a palindromic triangle of size N.\n",
        "For example, a palindromic triangle of size 5 is:\n",
        "\n",
        "1\n",
        "\n",
        "121\n",
        "\n",
        "12321\n",
        "\n",
        "1234321\n",
        "\n",
        "123454321\n",
        "\n",
        "Logic:\n",
        "\n",
        "Step I - (10^1 / 9) =1; (10^2 / 9)= 11; (10^3 / 9)=111... \n",
        "Step II - 1 * 1=1; 11 * 11 = 121; 111*111= 12321...."
      ]
    },
    {
      "cell_type": "code",
      "metadata": {
        "colab": {
          "base_uri": "https://localhost:8080/"
        },
        "id": "4umOSVzX7Bh1",
        "outputId": "5b59bccb-a37b-4d09-d6ff-db319954b672"
      },
      "source": [
        "for i in range(1,int(input())+1): \n",
        "    print(int(10**i/9)**2) "
      ],
      "execution_count": null,
      "outputs": [
        {
          "output_type": "stream",
          "text": [
            "5\n",
            "1\n",
            "121\n",
            "12321\n",
            "1234321\n",
            "123454321\n"
          ],
          "name": "stdout"
        }
      ]
    },
    {
      "cell_type": "markdown",
      "metadata": {
        "id": "HswNUxaymtyi"
      },
      "source": [
        ""
      ]
    },
    {
      "cell_type": "markdown",
      "metadata": {
        "id": "XH3QDjAA9k71"
      },
      "source": [
        "**Q5. Mod Divmod:** One of the built-in functions of Python is divmod, which takes two arguments a and b and returns a tuple containing the quotient of a/b first and then the remainder a.\n",
        "Read in two integers, a and b, and print three lines.\n",
        "The first line is the integer division a//b .\n",
        "The second line is the result of the modulo operator: a%b.\n",
        "The third line prints the divmod of a and b."
      ]
    },
    {
      "cell_type": "code",
      "metadata": {
        "colab": {
          "base_uri": "https://localhost:8080/"
        },
        "id": "kYppQtrF-AFv",
        "outputId": "abe6c47d-34f3-4427-ecfc-e9d474980c40"
      },
      "source": [
        "a = int(input(\"Value of A: \"))\n",
        "b = int(input(\"Value of B: \"))\n",
        "print(a//b,a%b,divmod(a,b),sep='\\n')\n"
      ],
      "execution_count": 7,
      "outputs": [
        {
          "output_type": "stream",
          "text": [
            "Value of A: 54\n",
            "Value of B: 5\n",
            "10\n",
            "4\n",
            "(10, 4)\n"
          ],
          "name": "stdout"
        }
      ]
    },
    {
      "cell_type": "markdown",
      "metadata": {
        "id": "EhbG-OS09sMX"
      },
      "source": [
        "**Q6. Power - Mod Power:** You are given three integers: a, b, and m, respectively. Print two lines.The first line should print the result of pow(a,b). The second line should print the result of pow(a,b,m).\n"
      ]
    },
    {
      "cell_type": "code",
      "metadata": {
        "colab": {
          "base_uri": "https://localhost:8080/"
        },
        "id": "VRP3yJpq-BAs",
        "outputId": "61dae5ac-df2a-43fd-8d22-3b605863708f"
      },
      "source": [
        "a, b, m = int(input(\"A = \")),int(input(\"B = \")), int(input(\"m = \"))\n",
        "print(pow(a,b),pow(a,b,m),sep='\\n')"
      ],
      "execution_count": 10,
      "outputs": [
        {
          "output_type": "stream",
          "text": [
            "A = 8\n",
            "B = 9\n",
            "m = 10\n",
            "134217728\n",
            "8\n"
          ],
          "name": "stdout"
        }
      ]
    },
    {
      "cell_type": "markdown",
      "metadata": {
        "id": "k_JVOzos94dG"
      },
      "source": [
        "**Q.7 Integers Come In All Sizes:**\n",
        "Integers in Python can be as big as the bytes in your machine's memory. As we know, the result of a^b grows really fast with increasing b.Let's do some calculations on very large integers. \n",
        "\n",
        "Task: Read four numbers, a, b, c, and d, and print the result of a^b + c^d."
      ]
    },
    {
      "cell_type": "code",
      "metadata": {
        "colab": {
          "base_uri": "https://localhost:8080/"
        },
        "id": "Y3VJVsGF9rLP",
        "outputId": "ba9ea461-a233-4814-998d-09a4761cd9d3"
      },
      "source": [
        "A,B,C,D = (int(input()) for i in range(4))\n",
        "print (pow(A,B)+pow(C,D))\n"
      ],
      "execution_count": 11,
      "outputs": [
        {
          "output_type": "stream",
          "text": [
            "8\n",
            "18\n",
            "5\n",
            "15\n",
            "18014429027060109\n"
          ],
          "name": "stdout"
        }
      ]
    },
    {
      "cell_type": "code",
      "metadata": {
        "id": "3L9Uu-J7RqsQ"
      },
      "source": [
        ""
      ],
      "execution_count": null,
      "outputs": []
    }
  ]
}