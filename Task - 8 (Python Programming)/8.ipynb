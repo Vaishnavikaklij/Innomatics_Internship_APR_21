{
  "nbformat": 4,
  "nbformat_minor": 0,
  "metadata": {
    "colab": {
      "name": "8.ipynb",
      "provenance": [],
      "collapsed_sections": []
    },
    "kernelspec": {
      "name": "python3",
      "display_name": "Python 3"
    },
    "language_info": {
      "name": "python"
    }
  },
  "cells": [
    {
      "cell_type": "markdown",
      "metadata": {
        "id": "Fp9nfwDsLTSp"
      },
      "source": [
        "## **TASK 8:**"
      ]
    },
    {
      "cell_type": "markdown",
      "metadata": {
        "id": "I40NCnwb5eHK"
      },
      "source": [
        "**Q1. Binomial Distribution 1:**\n",
        "The ratio of boys to girls for babies born in Russia is 1.09 : 1 . If there is 1 child born per birth, what proportion of Russian families with exactly 6 children will have at least 3 boys? Write a program to compute the answer using the above parameters. Then print your result, rounded to a scale of 3 decimal places (i.e.,1.234  format)."
      ]
    },
    {
      "cell_type": "code",
      "metadata": {
        "colab": {
          "base_uri": "https://localhost:8080/"
        },
        "id": "mvaoHrPvIrCZ",
        "outputId": "24b8db79-3ab5-432b-a986-fb5b45d12043"
      },
      "source": [
        " def factorial(n):\n",
        "    return 1 if n == 0 else n * factorial(n - 1)\n",
        "\n",
        "\n",
        "def combination(n, k):\n",
        "    return factorial(n) / (factorial(k) * factorial(n - k))\n",
        "\n",
        "\n",
        "def binomial(n, k, p):\n",
        "    return combination(n, k) * pow(p, k) * pow(1 - p, n - k)\n",
        "\n",
        "\n",
        "boys, girls = map(float, input().strip().split(' '))\n",
        "\n",
        "result = round(sum([binomial(6, i, boys / (boys + girls)) for i in range(3, 7)]), 3)\n",
        "print(result)"
      ],
      "execution_count": null,
      "outputs": [
        {
          "output_type": "stream",
          "text": [
            "1.08 1\n",
            "0.692\n"
          ],
          "name": "stdout"
        }
      ]
    },
    {
      "cell_type": "markdown",
      "metadata": {
        "id": "aIaJJaPP6sjt"
      },
      "source": [
        "**Q2.Binomial Distribution II:** In this challenge, we go further with binomial distributions. A manufacturer of metal pistons finds that, on average, 12% of the pistons they manufacture are rejected because they are incorrectly sized. What is the probability that a batch of 10 pistons will contain:\n",
        "1)No more than 2 rejects?\n",
        "2)At least 2 rejects?"
      ]
    },
    {
      "cell_type": "code",
      "metadata": {
        "colab": {
          "base_uri": "https://localhost:8080/"
        },
        "id": "TyVR9GgS6O9L",
        "outputId": "ec8ee632-b027-4ebf-ab6c-0ab701d0e414"
      },
      "source": [
        "def fact(n):\n",
        "    return 1 if n == 0 else n*fact(n-1)\n",
        "\n",
        "def comb(n, x):\n",
        "    return fact(n) / (fact(x) * fact(n-x))\n",
        "\n",
        "def b(x, n, p):\n",
        "    return comb(n, x) * p**x * (1-p)**(n-x)\n",
        "\n",
        "p, n = list(map(int, input().split(\" \")))\n",
        "print(round(sum([b(i, n, p/100) for i in range(3)]), 3))\n",
        "print(round(sum([b(i, n, p/100) for i in range(2, n+1)]), 3))"
      ],
      "execution_count": null,
      "outputs": [
        {
          "output_type": "stream",
          "text": [
            "10 12\n",
            "0.889\n",
            "0.341\n"
          ],
          "name": "stdout"
        }
      ]
    },
    {
      "cell_type": "markdown",
      "metadata": {
        "id": "FTMVPTMg_x0M"
      },
      "source": [
        "**Q3. Normal Distribution I:** The time taken to assemble a car is normally distributed with mean and variance of 20 and 4 hours respectively. Find the probability that a car can be assembled\n",
        "(a) in less than 19.5 hours\n",
        "(b) between 20 and 22 hours"
      ]
    },
    {
      "cell_type": "code",
      "metadata": {
        "colab": {
          "base_uri": "https://localhost:8080/"
        },
        "id": "_VscRTcJ_V82",
        "outputId": "34303b48-bd00-4d05-da8e-4b0fe215e534"
      },
      "source": [
        "import math\n",
        "def cdf(x, mean, std):\n",
        "    return 1/2*(1+math.erf((x-mean) / std / 2**(1/2)))\n",
        "\n",
        "mean = 20\n",
        "std = 2\n",
        "# Less than 19.5 hours\n",
        "print(round(cdf(19.5, mean, std), 3))\n",
        "# Between 20 and 22 hours?\n",
        "print(round(cdf(22, mean, std) - cdf(20, mean, std), 3))"
      ],
      "execution_count": null,
      "outputs": [
        {
          "output_type": "stream",
          "text": [
            "0.401\n",
            "0.341\n"
          ],
          "name": "stdout"
        }
      ]
    },
    {
      "cell_type": "markdown",
      "metadata": {
        "id": "x_4O37b_o3Sl"
      },
      "source": [
        "**Q4. Normal Distribution II:** The final grades for a Physics exam taken by a large group of students have a mean of 70 and a standard deviation of 10. If we can approximate the distribution of these grades by a normal distribution, what percentage of the students:\n",
        "\n",
        "Scored higher than 80 (i.e., have a grade > 80)?\n",
        "Passed the test (i.e., have a grade >= 60 )?\n",
        "Failed the test (i.e., have a grade < 60)?\n",
        "Find and print the answer to each question on a new line, rounded to a scale of  decimal places."
      ]
    },
    {
      "cell_type": "code",
      "metadata": {
        "colab": {
          "base_uri": "https://localhost:8080/"
        },
        "id": "7uAIFxLynqim",
        "outputId": "a781852e-06a0-4dee-8596-b58d12eee096"
      },
      "source": [
        "import math\n",
        "\n",
        "def cdf(x, mean, std):\n",
        "    return 1/2*(1+math.erf((x-mean) / std / 2**(1/2)))\n",
        "\n",
        "mean = 70\n",
        "std = 10\n",
        "\n",
        "# Scored higher than 80\n",
        "print(round((1 - cdf(80, mean, std))*100, 2))\n",
        "# Passed the test (i.e., have a grade >= 60)?\n",
        "print(round((1 - cdf(60, mean, std))*100, 2))\n",
        "# Failed the test (i.e., have a grade < 60)?\n",
        "print(round(cdf(60, mean, std)*100, 2))"
      ],
      "execution_count": null,
      "outputs": [
        {
          "output_type": "stream",
          "text": [
            "15.87\n",
            "84.13\n",
            "15.87\n"
          ],
          "name": "stdout"
        }
      ]
    },
    {
      "cell_type": "markdown",
      "metadata": {
        "id": "aM4EzRKPsjjh"
      },
      "source": [
        "**Q5. The Central Limit Theorem I:**\n",
        "A large elevator can transport a maximum of 9800  pounds. Suppose a load of cargo containing 49 boxes must be transported via the elevator. The box weight of this type of cargo follows a distribution with a mean of 205 pounds and a standard deviation of 15 pounds. Based on this information, what is the probability that all 49 boxes can be safely loaded into the freight elevator and transported?"
      ]
    },
    {
      "cell_type": "code",
      "metadata": {
        "colab": {
          "base_uri": "https://localhost:8080/"
        },
        "id": "77kzVF41qTex",
        "outputId": "e27cddca-8c1d-404c-f08e-eb0bd8d08fbe"
      },
      "source": [
        "import math\n",
        "\n",
        "x = int(input())\n",
        "n = int(input())\n",
        "mu = int(input())\n",
        "sigma = int(input())\n",
        "\n",
        "mu_sum = n * mu \n",
        "sigma_sum = math.sqrt(n) * sigma\n",
        "\n",
        "def cdf(x, mu, sigma):\n",
        "    Z = (x - mu)/sigma\n",
        "    return 0.5*(1 + math.erf(Z/(math.sqrt(2))))\n",
        "\n",
        "print(round(cdf(x, mu_sum, sigma_sum), 4))   "
      ],
      "execution_count": null,
      "outputs": [
        {
          "output_type": "stream",
          "text": [
            "9800\n",
            "49 \n",
            "205\n",
            "15\n",
            "0.0098\n"
          ],
          "name": "stdout"
        }
      ]
    },
    {
      "cell_type": "markdown",
      "metadata": {
        "id": "pVLjxipJDlj3"
      },
      "source": [
        "**Q.6 The Central Limit Theorem II:** The number of tickets purchased by each student for the University X vs. University Y football game follows a distribution that has a mean of 2.4 and a standard deviation of 2.0.\n",
        "\n",
        "A few hours before the game starts, 100 eager students line up to purchase last-minute tickets. If there are only  tickets left, what is the probability that all 100 students will be able to purchase tickets?"
      ]
    },
    {
      "cell_type": "code",
      "metadata": {
        "id": "p1oASwKftwUY",
        "colab": {
          "base_uri": "https://localhost:8080/"
        },
        "outputId": "c85a6ec5-c302-498a-df86-dc4876fe47c5"
      },
      "source": [
        "import math\n",
        "def centralLimitTheorem(tickets,n,mean,sd):\n",
        "    newMean=n * mean\n",
        "    newSd=(n**0.5) * sd     \n",
        "    return round(0.5 * (1 + math.erf((tickets - newMean) / (newSd * (2 ** 0.5)))),4)\n",
        "\n",
        "    # inputs\n",
        "mean = 2.4\n",
        "sd = 2\n",
        "n = 100\n",
        "tickets = 250\n",
        "print(centralLimitTheorem(tickets,n,mean,sd))\n"
      ],
      "execution_count": null,
      "outputs": [
        {
          "output_type": "stream",
          "text": [
            "0.6915\n"
          ],
          "name": "stdout"
        }
      ]
    },
    {
      "cell_type": "markdown",
      "metadata": {
        "id": "SwPqUIKAbKaJ"
      },
      "source": [
        "**Q.7 The Central Limit Theorem III:**\n",
        "You have a sample of 100 values from a population with mean 500 and with standard deviation 80 . Compute the interval that covers the middle 95% of the distribution of the sample mean; in other words, compute A and B such that . Use the value of P(A<x<B)=0.95. Note that z=1.96 is the z-score."
      ]
    },
    {
      "cell_type": "code",
      "metadata": {
        "colab": {
          "base_uri": "https://localhost:8080/"
        },
        "id": "FRxQ8Bw8bIe6",
        "outputId": "680b2ee9-330b-46b5-c435-cbc1f06377af"
      },
      "source": [
        "samples = float(input())\n",
        "mean = float(input())\n",
        "sd = float(input())\n",
        "interval = float(input())\n",
        "z = float (input())\n",
        "\n",
        "sd_sample = sd / (samples**0.5)\n",
        "print(round(mean - sd_sample*z,2))\n",
        "print(round(mean + sd_sample*z,2))"
      ],
      "execution_count": null,
      "outputs": [
        {
          "output_type": "stream",
          "text": [
            "100 \n",
            "500 \n",
            "80 \n",
            ".95 \n",
            "1.96\n",
            "484.32\n",
            "515.68\n"
          ],
          "name": "stdout"
        }
      ]
    },
    {
      "cell_type": "markdown",
      "metadata": {
        "id": "rHcS52oCeCe0"
      },
      "source": [
        "**Q8. Pearson Correlation Coefficient I**\n",
        "The first line contains an integer, n, denoting the size of data sets X and Y .\n",
        "The second line contains n space-separated real numbers (scaled to at most one decimal place), defining data set . The third line contains n space-separated real numbers (scaled to at most one decimal place), defining data set ."
      ]
    },
    {
      "cell_type": "code",
      "metadata": {
        "colab": {
          "base_uri": "https://localhost:8080/"
        },
        "id": "T-50ur3ZBNrL",
        "outputId": "f6987a15-abc7-4770-a7b8-59f0dc112e7e"
      },
      "source": [
        "N = int(input())\n",
        "X = list(map(float,input().strip().split()))\n",
        "Y = list(map(float,input().strip().split()))\n",
        "\n",
        "mu_x = sum(X) / N\n",
        "mu_y = sum(Y) / N\n",
        "\n",
        "stdv_x = (sum([(i - mu_x)**2 for i in X]) / N)**0.5\n",
        "stdv_y = (sum([(i - mu_y)**2 for i in Y]) / N)**0.5\n",
        "\n",
        "\n",
        "covariance = sum([(X[i] - mu_x) * (Y[i] -mu_y) for i in range(N)])\n",
        "\n",
        "correlation_coefficient = covariance / (N * stdv_x * stdv_y)\n",
        "\n",
        "print(round(correlation_coefficient,3))"
      ],
      "execution_count": 2,
      "outputs": [
        {
          "output_type": "stream",
          "text": [
            "5\n",
            "10 9.8 8 7.8 7.7\n",
            "200 44 32 24 22\n",
            "0.734\n"
          ],
          "name": "stdout"
        }
      ]
    },
    {
      "cell_type": "markdown",
      "metadata": {
        "id": "Irwdq4OTnq38"
      },
      "source": [
        "**Q9. Least Square Regression Line:** A group of five students enrolls in Statistics immediately after taking a Math aptitude test. Each student's Math aptitude test score, x , and Statistics course grade,y , can be expressed as the following list of (x,y)  points:\n",
        "\n",
        "If a student scored an 80 on the Math aptitude test, what grade would we expect them to achieve in Statistics? Determine the equation of the best-fit line using the least squares method, then compute and print the value of y when x =80.\n"
      ]
    },
    {
      "cell_type": "code",
      "metadata": {
        "id": "ZPrEl9kAjVpn",
        "colab": {
          "base_uri": "https://localhost:8080/"
        },
        "outputId": "8c33a1d3-da69-4fca-e6db-58ecee98050e"
      },
      "source": [
        "from sklearn import linear_model\n",
        "import numpy as np\n",
        "\n",
        "x,y = [], []\n",
        "for _ in range(5):\n",
        "    i = input().split()\n",
        "    x.append(int(i[0]))\n",
        "    y.append(int(i[1]))\n",
        "\n",
        "x1 = np.asarray(x).reshape(-1, 1)\n",
        "lm = linear_model.LinearRegression()\n",
        "lm.fit(x1, y)\n",
        "print(f'{lm.intercept_ + lm.coef_[0]*80:.3f}')"
      ],
      "execution_count": 5,
      "outputs": [
        {
          "output_type": "stream",
          "text": [
            "95 85\n",
            "85 95\n",
            "80 70\n",
            "70 65\n",
            "60 70\n",
            "78.288\n"
          ],
          "name": "stdout"
        }
      ]
    },
    {
      "cell_type": "markdown",
      "metadata": {
        "id": "Lflaqw_9v98O"
      },
      "source": [
        "**Q10. Multiple Linear Regression:** \n",
        "Andrea has a simple equation:\n",
        "for (m + 1) real constants (a, f1 ,f2 , ,fm ). We can say that the value of Y depends on m features. Andrea studies this equation for n different feature sets (f1,f2,f3,..fm)  and records each respective value of Y. If she has q new feature sets, can you help Andrea find the value of Y for each of the sets?\n",
        "Note: You are not expected to account for bias and variance trade-offs."
      ]
    },
    {
      "cell_type": "code",
      "metadata": {
        "colab": {
          "base_uri": "https://localhost:8080/"
        },
        "id": "oCMK4NNSwGWb",
        "outputId": "80001c3a-d237-471f-dd6d-b809f7845059"
      },
      "source": [
        "line1=list(map(int,input().split()))\n",
        "m=line1[0]\n",
        "n=line1[1]\n",
        "X=[]\n",
        "Y=[]\n",
        "for i in range(n):\n",
        "    line=list(map(float,input().split()))\n",
        "    X.append(line[:m])\n",
        "    Y.append(line[m])\n",
        " \n",
        "from sklearn import linear_model\n",
        "lm = linear_model.LinearRegression()\n",
        "lm.fit(X, Y)\n",
        " \n",
        "a = lm.intercept_\n",
        "b = lm.coef_\n",
        "#print a, b[0], b[1]\n",
        "import numpy as np\n",
        " \n",
        "n1=int(input())\n",
        " \n",
        " \n",
        "for j in range(n1):\n",
        "    line=list(map(float,input().split()))\n",
        "    y=a+np.dot(line,b) \n",
        "    print(round(y,2))"
      ],
      "execution_count": 1,
      "outputs": [
        {
          "output_type": "stream",
          "text": [
            "2 7\n",
            "0.18 0.89 109.85\n",
            "1.0 0.26 155.72\n",
            "0.92 0.11 137.66\n",
            "0.07 0.37 76.17\n",
            "0.85 0.16 139.75\n",
            "0.99 0.41 162.6\n",
            "0.87 0.47 151.77\n",
            "4\n",
            "0.49 0.18\n",
            "105.21\n",
            "0.57 0.83\n",
            "142.67\n",
            "0.56 0.64\n",
            "132.94\n",
            "0.76 0.18\n",
            "129.7\n"
          ],
          "name": "stdout"
        }
      ]
    }
  ]
}