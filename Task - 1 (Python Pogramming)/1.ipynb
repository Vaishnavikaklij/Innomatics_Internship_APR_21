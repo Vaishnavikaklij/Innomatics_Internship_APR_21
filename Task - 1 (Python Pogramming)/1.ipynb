{
 "cells": [
  {
   "cell_type": "code",
   "execution_count": 1,
   "metadata": {},
   "outputs": [
    {
     "name": "stdout",
     "output_type": "stream",
     "text": [
      "Hello, World!\n"
     ]
    }
   ],
   "source": [
    "#Q1:Print Hello, World!\n",
    "\n",
    "print(\"Hello, World!\")"
   ]
  },
  {
   "cell_type": "code",
   "execution_count": 2,
   "metadata": {},
   "outputs": [
    {
     "name": "stdout",
     "output_type": "stream",
     "text": [
      "21\n",
      "Weird\n"
     ]
    }
   ],
   "source": [
    "'''#Q2:Given an integer, n, perform the following conditional actions:\n",
    "If n is odd, print Weird\n",
    "If n is even and in the inclusive range of 2 to 5, print Not Weird\n",
    "If n is even and in the inclusive range of 6 to 20, print Weird\n",
    "If n is even and greater than 20, print Not Weird'''\n",
    "\n",
    "import math\n",
    "import os\n",
    "import random\n",
    "import re\n",
    "import sys\n",
    "\n",
    "if __name__ == '__main__':\n",
    "    n = int(input().strip())\n",
    "\n",
    "if n%2 != 0:\n",
    "        print(\"Weird\")\n",
    "else :\n",
    "        if(n>=2 and n<=5):\n",
    "            print(\"Not Weird\")\n",
    "        elif(n>=6 and n<=20):\n",
    "            print(\"Weird\")\n",
    "        elif(n>20):\n",
    "            print(\"Not Weird\")"
   ]
  },
  {
   "cell_type": "code",
   "execution_count": 3,
   "metadata": {},
   "outputs": [
    {
     "name": "stdout",
     "output_type": "stream",
     "text": [
      "5\n",
      "4\n",
      "Sum = 9\n",
      "Difference =  1\n",
      "Product =  20\n"
     ]
    }
   ],
   "source": [
    "'''#Q3:The provided code stub reads two integers from STDIN,  a and b. Add code to print three lines where:\n",
    " 1.The first line contains the sum of the two numbers.\n",
    " 2.The second line contains the difference of the two numbers (first - second).\n",
    " 3.The third line contains the product of the two numbers.\n",
    "'''\n",
    "\n",
    "if __name__ == '__main__':\n",
    "    a = int(input())\n",
    "    b = int(input())\n",
    "    print(\"Sum =\", a+b)\n",
    "    print(\"Difference = \", a-b)\n",
    "    print(\"Product = \",a*b)\n",
    "    "
   ]
  },
  {
   "cell_type": "code",
   "execution_count": 4,
   "metadata": {},
   "outputs": [
    {
     "name": "stdout",
     "output_type": "stream",
     "text": [
      "9\n",
      "6\n",
      "1\n",
      "1.5\n"
     ]
    }
   ],
   "source": [
    "'''Q4 : The provided code stub reads two integers,  and , from STDIN.\n",
    "Add logic to print two lines. The first line should contain the result of integer division,  // . \n",
    "The second line should contain the result of float division,/.No rounding or formatting is necessary.'''\n",
    "\n",
    "if __name__ == '__main__':\n",
    "    a = int(input())\n",
    "    b = int(input())  \n",
    "    \n",
    "    print(a // b)\n",
    "    print(a / b)\n"
   ]
  },
  {
   "cell_type": "code",
   "execution_count": 5,
   "metadata": {},
   "outputs": [
    {
     "name": "stdout",
     "output_type": "stream",
     "text": [
      "Enter the value of n :6\n",
      "0\n",
      "1\n",
      "4\n",
      "9\n",
      "16\n",
      "25\n"
     ]
    }
   ],
   "source": [
    "'''Q5 : The provided code stub reads and integer, n, from STDIN. For all non-negative integers i < n, print i^2. '''\n",
    "\n",
    "if __name__ == '__main__':\n",
    "    n = int(input(\"Enter the value of n :\"))\n",
    "    for i in range(n):\n",
    "      print(i ** 2)"
   ]
  },
  {
   "cell_type": "code",
   "execution_count": 7,
   "metadata": {},
   "outputs": [
    {
     "name": "stdout",
     "output_type": "stream",
     "text": [
      "Enter year :1990\n",
      "False\n"
     ]
    }
   ],
   "source": [
    "'''Q6 : In the Gregorian calendar, three conditions are used to identify leap years:\n",
    "The year can be evenly divided by 4, is a leap year, unless:\n",
    "The year can be evenly divided by 100, it is NOT a leap year, unless:\n",
    "The year is also evenly divisible by 400. \n",
    "Then it is a leap year.Given a year, determine whether it is a leap year. If it is a leap year, return the Boolean True, \n",
    "otherwise return False.Note that the code stub provided reads from STDIN and passes arguments to the\n",
    "is_leap function. It is only necessary to complete the is_leap function. '''\n",
    "\n",
    "def is_leap(year):\n",
    "    leap = False\n",
    "    \n",
    "    if year % 400 == 0:\n",
    "        leap = True\n",
    "    elif year % 100 == 0:\n",
    "        leap = False\n",
    "    elif year % 4 == 0:\n",
    "        leap = True\n",
    "    \n",
    "    return leap\n",
    "    \n",
    "year = int(input(\"Enter year :\"))\n",
    "print(is_leap(year))"
   ]
  },
  {
   "cell_type": "code",
   "execution_count": 8,
   "metadata": {},
   "outputs": [
    {
     "name": "stdout",
     "output_type": "stream",
     "text": [
      "5\n",
      "12345"
     ]
    }
   ],
   "source": [
    "'''Q7: The included code stub will read an integer, n, from STDIN.\n",
    "Without using any string methods, try to print the following: 123...n'''\n",
    "\n",
    "if __name__ == '__main__':\n",
    "    n = int(input())\n",
    "    \n",
    "    for i in range(n):\n",
    "        print(i + 1 , end = \"\")  "
   ]
  },
  {
   "cell_type": "code",
   "execution_count": null,
   "metadata": {
    "collapsed": true
   },
   "outputs": [],
   "source": []
  }
 ],
 "metadata": {
  "kernelspec": {
   "display_name": "Python 3",
   "language": "python",
   "name": "python3"
  },
  "language_info": {
   "codemirror_mode": {
    "name": "ipython",
    "version": 3
   },
   "file_extension": ".py",
   "mimetype": "text/x-python",
   "name": "python",
   "nbconvert_exporter": "python",
   "pygments_lexer": "ipython3",
   "version": "3.6.3"
  }
 },
 "nbformat": 4,
 "nbformat_minor": 2
}
