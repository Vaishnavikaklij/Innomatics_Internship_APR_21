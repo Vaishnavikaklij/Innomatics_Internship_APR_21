{
  "nbformat": 4,
  "nbformat_minor": 0,
  "metadata": {
    "colab": {
      "name": "5.ipynb",
      "provenance": [],
      "collapsed_sections": []
    },
    "kernelspec": {
      "name": "python3",
      "display_name": "Python 3"
    },
    "language_info": {
      "name": "python"
    },
    "accelerator": "GPU"
  },
  "cells": [
    {
      "cell_type": "markdown",
      "metadata": {
        "id": "xGqNaZlOOO2I"
      },
      "source": [
        "**TASK 5**"
      ]
    },
    {
      "cell_type": "markdown",
      "metadata": {
        "id": "dFDpYcQGYa8Z"
      },
      "source": [
        "**Q1. Detect Floating Point Number:**You are given a string . Your task is to verify that is a floating point number. In this task, a valid float number must satisfy all of the following requirements:\n",
        "1) Number can start with +, - or . symbol. \n",
        "2)Number must contain at least 1 decimal value.\n",
        "3)Number must have exactly one . symbol. \n",
        "4)Number must not give any exceptions when converted using float(N)float(N)."
      ]
    },
    {
      "cell_type": "code",
      "metadata": {
        "colab": {
          "base_uri": "https://localhost:8080/"
        },
        "id": "Nw8nKs20YeU9",
        "outputId": "368935c2-30d5-4dbe-d30f-57f9e61cfaf2"
      },
      "source": [
        "import re\n",
        "for i in range(int(input())):\n",
        "    print(bool(re.match(r'^[-+]?[0-9]*\\.[0-9]+$', input())))"
      ],
      "execution_count": null,
      "outputs": [
        {
          "output_type": "stream",
          "text": [
            "4\n",
            "-1.8\n",
            "True\n",
            "-+5.6\n",
            "False\n",
            "6.5\n",
            "True\n",
            "8\n",
            "False\n"
          ],
          "name": "stdout"
        }
      ]
    },
    {
      "cell_type": "markdown",
      "metadata": {
        "id": "TEprrE3YfldY"
      },
      "source": [
        "**Q2. Re.split():** You are given a string s consisting only of digits 0-9, commas ,, and dots .\n",
        "Your task is to complete the regex_pattern defined below, which will be used to re.split() all of the , and . symbols in s.It’s guaranteed that every comma and every dot in s is preceeded and followed by a digit."
      ]
    },
    {
      "cell_type": "code",
      "metadata": {
        "colab": {
          "base_uri": "https://localhost:8080/"
        },
        "id": "bhLU6Sr6Yfb_",
        "outputId": "c4e16047-fbed-4db1-bb2b-594dfc5822cb"
      },
      "source": [
        "regex_pattern = r\"[.,]\"\t\n",
        "import re\n",
        "print(\"\\n\".join(re.split(regex_pattern, input())))\n"
      ],
      "execution_count": null,
      "outputs": [
        {
          "output_type": "stream",
          "text": [
            "90,110,500.10\n",
            "90\n",
            "110\n",
            "500\n",
            "10\n"
          ],
          "name": "stdout"
        }
      ]
    },
    {
      "cell_type": "markdown",
      "metadata": {
        "id": "sS7kbz7MFuql"
      },
      "source": [
        "**Q3. Group(), Groups() & Groupdict():** You are given a string .Your task is to find the first occurrence of an alphanumeric character in  (read from left to right) that has consecutive repetitions."
      ]
    },
    {
      "cell_type": "code",
      "metadata": {
        "colab": {
          "base_uri": "https://localhost:8080/"
        },
        "id": "EEK_ASUqf480",
        "outputId": "0db2c168-1d86-43fa-d0d4-a54295206fc5"
      },
      "source": [
        "#The expression ([A-Za-z0-9]) will match an alphanumeric character and store it in group .\n",
        "#The expression \\1 matches the exact same text that was matched by the first capturing group.\n",
        "\n",
        "import re\n",
        "match = re.search(r'([A-Za-z0-9])\\1+',input())\n",
        "if match:\n",
        "    print(match.group(1))\n",
        "else:\n",
        "    print(-1)"
      ],
      "execution_count": null,
      "outputs": [
        {
          "output_type": "stream",
          "text": [
            "b123bb6\n",
            "b\n"
          ],
          "name": "stdout"
        }
      ]
    },
    {
      "cell_type": "markdown",
      "metadata": {
        "id": "ROhA7iseKtnm"
      },
      "source": [
        "**Q4. Re.findall() & Re.finditer():** \n",
        "You are given a string . It consists of alphanumeric characters, spaces and symbols(+,-). Your task is to find all the substrings of  that contains  or more vowels. Also, these substrings must lie in between  consonants and should contain vowels only.\n"
      ]
    },
    {
      "cell_type": "code",
      "metadata": {
        "id": "4MYCzVTsFhwG",
        "colab": {
          "base_uri": "https://localhost:8080/"
        },
        "outputId": "16368a5d-5066-48d1-8bb6-148440a372ef"
      },
      "source": [
        "import re\n",
        "consonants = 'QWRTYPSDFGHJKLZXCVBNMqwrtypsdfghjklzxcvbnm'\n",
        "vowels = 'aeiou'\n",
        "match = re.findall(r'(?<=['+consonants+'])(['+vowels+']{2,})(?=['+consonants+'])',input(),flags = re.IGNORECASE)\n",
        "if match:\n",
        "    for i in match:\n",
        "        print(i)\n",
        "else:\n",
        "    print(-1)\n",
        "    "
      ],
      "execution_count": null,
      "outputs": [
        {
          "output_type": "stream",
          "text": [
            "VabcdoofgyYhFjkIoostpAeortuuuut\n",
            "oo\n",
            "Ioo\n",
            "Aeo\n",
            "uuuu\n"
          ],
          "name": "stdout"
        }
      ]
    },
    {
      "cell_type": "markdown",
      "metadata": {
        "id": "SAONBD0LQ09j"
      },
      "source": [
        "**Q5. Re.start() & Re.end():** You are given a string S. Your task is to find the indices of the start and end of string k in S.\n"
      ]
    },
    {
      "cell_type": "code",
      "metadata": {
        "colab": {
          "base_uri": "https://localhost:8080/"
        },
        "id": "xnu-vRNfUe8v",
        "outputId": "a3685c5a-f98b-46fb-d124-cbc89d9679b4"
      },
      "source": [
        "import re\n",
        "s, k = input(\"Enter text: \"), input(\"Enter pattern: \")\n",
        "m= list(re.finditer(\"(?=(%s))\"%k,s))\n",
        "if not m:\n",
        "    print((-1,-1))\n",
        "for i in m:\n",
        "    print((i.start(1),i.end(1)-1))"
      ],
      "execution_count": null,
      "outputs": [
        {
          "output_type": "stream",
          "text": [
            "Enter text: Vvaaiisshhnnnavi\n",
            "Enter pattern: aai\n",
            "(2, 4)\n"
          ],
          "name": "stdout"
        }
      ]
    },
    {
      "cell_type": "markdown",
      "metadata": {
        "id": "jBtx3B-NVPlT"
      },
      "source": [
        "**Q6. Regex Substitution:**\n",
        "You are given a text of N lines. The text contains && and || symbols.\n",
        "Your task is to modify those symbols to the following:\n",
        "&& → and\n",
        "|| → or\n",
        "Both && and || should have a space \" \" on both sides."
      ]
    },
    {
      "cell_type": "code",
      "metadata": {
        "colab": {
          "base_uri": "https://localhost:8080/"
        },
        "id": "m2gdeuhgZnaP",
        "outputId": "25cccab6-4bfa-412a-a920-98e81904ddf9"
      },
      "source": [
        "import re\n",
        "def replace(match):\n",
        "    if match.group(1) == '&&':\n",
        "        return 'and'\n",
        "    else:\n",
        "        return 'or'\n",
        "\n",
        "for _ in range(int(input())):\n",
        "    print(re.sub(r\"(?<= )(\\|\\||&&)(?= )\", replace, input()))\n"
      ],
      "execution_count": null,
      "outputs": [
        {
          "output_type": "stream",
          "text": [
            "2\n",
            "Only change those && which have space on both sides.\n",
            "Only change those and which have space on both sides.\n",
            "Change those || which have space on both sides.\n",
            "Change those or which have space on both sides.\n"
          ],
          "name": "stdout"
        }
      ]
    },
    {
      "cell_type": "markdown",
      "metadata": {
        "id": "lbplbXKSdUAN"
      },
      "source": [
        "**Q7. Validating Roman Numerals:**\n",
        "You are given a string, and you have to validate whether it's a valid Roman numeral. If it is valid, print True. Otherwise, print False. Try to create a regular expression for a valid Roman numeral.\n"
      ]
    },
    {
      "cell_type": "code",
      "metadata": {
        "colab": {
          "base_uri": "https://localhost:8080/"
        },
        "id": "OL8QPX31ZzWR",
        "outputId": "e6539d58-befa-4e54-cd09-121c510309f2"
      },
      "source": [
        "thousand = 'M{0,3}'\n",
        "hundred = '(C[MD]|D?C{0,3})'\n",
        "ten = '(X[CL]|L?X{0,3})'\n",
        "digit = '(I[VX]|V?I{0,3})'\n",
        "regex_pattern = r\"%s%s%s%s$\" % (thousand, hundred, ten, digit)    \n",
        "\n",
        "import re\n",
        "print(str(bool(re.match(regex_pattern, input()))))"
      ],
      "execution_count": null,
      "outputs": [
        {
          "output_type": "stream",
          "text": [
            "CDXXX\n",
            "True\n"
          ],
          "name": "stdout"
        }
      ]
    },
    {
      "cell_type": "markdown",
      "metadata": {
        "id": "E1C3pppWhNk0"
      },
      "source": [
        "**Q8. Validating phone numbers:** Let's dive into the interesting topic of regular expressions! You are given some input, and you are required to check whether they are valid mobile numbers.\n",
        "A valid mobile number is a ten digit number starting with a 7, 8 or 9.\n"
      ]
    },
    {
      "cell_type": "code",
      "metadata": {
        "colab": {
          "base_uri": "https://localhost:8080/"
        },
        "id": "_lOsm2RAgTlh",
        "outputId": "82ff0999-e215-4894-fd94-0a57b0445f0f"
      },
      "source": [
        "import re\n",
        "n = int(input(\"Number of inputs: \").strip())\n",
        "for _ in range(n):\n",
        "    tel = input(\"Enter the mobile number: \").strip()\n",
        "    pattern = '^[789][0-9]{9}$'\n",
        "    print(\"{}\".format(\"YES\" if bool(re.match(pattern, tel)) else \"NO\"))"
      ],
      "execution_count": null,
      "outputs": [
        {
          "output_type": "stream",
          "text": [
            "Number of inputs: 2\n",
            "Enter the mobile number: 9011789641\n",
            "YES\n",
            "Enter the mobile number: 598723416\n",
            "NO\n"
          ],
          "name": "stdout"
        }
      ]
    },
    {
      "cell_type": "markdown",
      "metadata": {
        "id": "6CfKIcntHvvx"
      },
      "source": [
        "**Q9. Validating and Parsing Email Addresses:** \n",
        "Valid email address meets the following criteria:\n",
        "It's composed of a username, domain name, and extension assembled in this format: username@domain.extension\n",
        "The username starts with an English alphabetical character, and any subsequent characters consist of one or more of the following: alphanumeric characters, -,., and _.\n",
        "The domain and extension contain only English alphabetical characters.\n",
        "The extension is , , or  characters in length.\n",
        "Given  pairs of names and email addresses as input, print each name and email address pair having a valid email address on a new line."
      ]
    },
    {
      "cell_type": "code",
      "metadata": {
        "colab": {
          "base_uri": "https://localhost:8080/"
        },
        "id": "vPl2z3otzI9l",
        "outputId": "02fa97b0-4da6-4881-8dde-af376703972b"
      },
      "source": [
        "import re\n",
        "N = int(input(\"Number of inputs: \"))\n",
        "\n",
        "for i in range(N):\n",
        "    name, email = input(\"Enter your name and mail-id: \").split()\n",
        "    pattern=\"<[a-z][a-zA-Z0-9\\-\\.\\_]+@[a-zA-Z]+\\.[a-zA-Z]{1,3}>\"\n",
        "    if bool(re.match(pattern, email)):\n",
        "        print(name,email)"
      ],
      "execution_count": null,
      "outputs": [
        {
          "output_type": "stream",
          "text": [
            "Number of inputs: 2\n",
            "Enter your name and mail-id: Vaishnavi <kaklijvaishnavi@gmail.com>\n",
            "Vaishnavi <kaklijvaishnavi@gmail.com>\n",
            "Enter your name and mail-id: Trishna <12trishna_gmail_com>\n"
          ],
          "name": "stdout"
        }
      ]
    },
    {
      "cell_type": "markdown",
      "metadata": {
        "id": "hVHK2JOtlxHA"
      },
      "source": [
        "**Q.10 Validating UID:**In this Validating UID problem, ABCXYZ company has up to 100 employees. The company decides to create a unique identification number (UID) for each of its employees. The company has assigned you the task of validating all the randomly generated UIDs.\n",
        "A valid UID must follow the rules below:\n",
        "\n",
        "It must contain at least  uppercase English alphabet characters.\n",
        "It must contain at least  digits ( - ).\n",
        "It should only contain alphanumeric characters ( - ,  -  &  - ).\n",
        "No character should repeat.\n",
        "There must be exactly  characters in a valid UID.\n"
      ]
    },
    {
      "cell_type": "code",
      "metadata": {
        "colab": {
          "base_uri": "https://localhost:8080/"
        },
        "id": "uB11dHZlM70I",
        "outputId": "a80ade98-77ac-4213-bd25-6c55d1195d63"
      },
      "source": [
        "import re\n",
        "\n",
        "if __name__ == \"__main__\":\n",
        "    t = int(input().strip())\n",
        "    \n",
        "    for _ in range(t):\n",
        "        uid = \"\".join(sorted(input()))\n",
        "        if (len(uid) == 10 and\n",
        "            re.match(r'', uid) and \n",
        "            re.search(r'[A-Z]{2}', uid) and\n",
        "            re.search(r'\\d\\d\\d', uid) and\n",
        "            not re.search(r'[^a-zA-Z0-9]', uid) and\n",
        "            not re.search(r'(.)\\1', uid)):\n",
        "            print(\"Valid\")\n",
        "        else:\n",
        "            print(\"Invalid\")\n",
        "                "
      ],
      "execution_count": null,
      "outputs": [
        {
          "output_type": "stream",
          "text": [
            "2\n",
            "B102358975\n",
            "Invalid\n",
            "C1BDEF2354\n",
            "Valid\n"
          ],
          "name": "stdout"
        }
      ]
    },
    {
      "cell_type": "markdown",
      "metadata": {
        "id": "RKFDRPloSAXT"
      },
      "source": [
        "**Q.11 Validating Credit Card Numbers:**\n",
        "You and Fredrick are good friends. Yesterday, Fredrick received N  credit cards from ABCD Bank. He wants to verify whether his credit card numbers are valid or not. You happen to be great at regex so he is asking for your help!\n",
        "\n",
        "A valid credit card from ABCD Bank has the following characteristics:\n",
        "\n",
        "► It must start with a 4,5  or 6.\n",
        "► It must contain exactly 16 digits.\n",
        "► It must only consist of digits (0-9).\n",
        "► It may have digits in groups of 4 , separated by one hyphen \"-\".\n",
        "► It must NOT use any other separator like ' ' , '_', etc.\n",
        "► It must NOT have 4 or more consecutive repeated digits."
      ]
    },
    {
      "cell_type": "code",
      "metadata": {
        "colab": {
          "base_uri": "https://localhost:8080/"
        },
        "id": "YBXuRYTuSCUY",
        "outputId": "946ff6ed-3ad1-487c-cedd-331996bf378f"
      },
      "source": [
        "import re\n",
        "for _ in range(int(input())):\n",
        "    s = input()\n",
        "\n",
        "    if re.match(r\"^[456]([\\d]{15}|[\\d]{3}(-[\\d]{4}){3})$\", s) and not re.search(r\"([\\d])\\1\\1\\1\", s.replace(\"-\", \"\")):\n",
        "        print(\"Valid\")\n",
        "    else:\n",
        "        print(\"Invalid\")"
      ],
      "execution_count": null,
      "outputs": [
        {
          "output_type": "stream",
          "text": [
            "3\n",
            "6123 - 9567 - 0912 - 1456\n",
            "Invalid\n",
            "4123356789123456\n",
            "Valid\n",
            "5123-4567-8912-3456\n",
            "Valid\n"
          ],
          "name": "stdout"
        }
      ]
    },
    {
      "cell_type": "markdown",
      "metadata": {
        "id": "xNOK8Qw4T2yu"
      },
      "source": [
        "**Q12.Validating Postal Codes:** A valid postal code P have to fullfil both below requirements:\n",
        "P must be a number in the range from 100000 to 999999 inclusive.\n",
        "P must not contain more than one alternating repetitive digit pair.\n",
        "Alternating repetitive digits are digits which repeat immediately after the next digit. In other words, an alternating repetitive digit pair is formed by two equal digits that have just a single digit between them.\n",
        "\n",
        "Your task is to provide two regular expressions regex_integer_in_range and regex_alternating_repetitive_digit_pair. Where:\n",
        "regex_integer_in_range should match only integers range from 100000 to 999999 inclusive\n",
        "regex_alternating_repetitive_digit_pair should find alternating repetitive digits pairs in a given string.\n",
        "Both these regular expressions will be used by the provided code template to check if the input string P is a valid postal code"
      ]
    },
    {
      "cell_type": "code",
      "metadata": {
        "colab": {
          "base_uri": "https://localhost:8080/"
        },
        "id": "D_pHqmkrSDMD",
        "outputId": "3ed41def-1716-4947-81da-75d47cb5e9c6"
      },
      "source": [
        "regex_integer_in_range = r\"^[1-9]\\d{5}$\"\t\n",
        "regex_alternating_repetitive_digit_pair = r\"(\\d)(?=\\d\\1)\"\t\n",
        "\n",
        "\n",
        "import re\n",
        "P = input()\n",
        "\n",
        "print (bool(re.match(regex_integer_in_range, P)) \n",
        "and len(re.findall(regex_alternating_repetitive_digit_pair, P)) < 2)"
      ],
      "execution_count": null,
      "outputs": [
        {
          "output_type": "stream",
          "text": [
            "112233\n",
            "True\n"
          ],
          "name": "stdout"
        }
      ]
    },
    {
      "cell_type": "markdown",
      "metadata": {
        "id": "L6bCFEKqXP0A"
      },
      "source": [
        "**Q.13 Matrix Script:** \n",
        "Neo has a complex matrix script. The matrix script is a N X M grid of strings. It consists of alphanumeric characters, spaces and symbols (!,@,#,$,%,&).To decode the script, Neo needs to read each column and select only the alphanumeric characters and connect them. Neo reads the column from top to bottom and starts reading from the leftmost column.\n",
        "If there are symbols or spaces between two alphanumeric characters of the decoded script, then Neo replaces them with a single space '' for better readability.\n",
        "Neo feels that there is no need to use 'if' conditions for decoding.\n",
        "Alphanumeric characters consist of: [A-Z, a-z, and 0-9]."
      ]
    },
    {
      "cell_type": "code",
      "metadata": {
        "colab": {
          "base_uri": "https://localhost:8080/"
        },
        "id": "5lzz8iP_VOUO",
        "outputId": "011fcb51-c090-48cc-ea10-ba19b5506614"
      },
      "source": [
        "import math\n",
        "import os\n",
        "import random\n",
        "import re\n",
        "import sys\n",
        "import re\n",
        "\n",
        "first_multiple_input = input().rstrip().split()\n",
        "\n",
        "n = int(first_multiple_input[0])\n",
        "\n",
        "m = int(first_multiple_input[1])\n",
        "\n",
        "matrix = []\n",
        "\n",
        "for _ in range(n):\n",
        "    matrix_item = input()\n",
        "    matrix.append(matrix_item)\n",
        "\n",
        "complete = \"\"\n",
        "for el in zip(*matrix):\n",
        "    complete += \"\".join(el)\n",
        "print(re.sub(r'(?<=\\w)([^\\w]+)(?=\\w)', \" \", complete))"
      ],
      "execution_count": null,
      "outputs": [
        {
          "output_type": "stream",
          "text": [
            "5 3\n",
            "ir!\n",
            "h%x\n",
            "$a \n",
            "Tsi\n",
            "#%x\n",
            "ih T#r as x ix\n"
          ],
          "name": "stdout"
        }
      ]
    },
    {
      "cell_type": "markdown",
      "metadata": {
        "id": "PIc4k2QvvgOa"
      },
      "source": [
        "**Q14. Hex Color Code :** CSS colors are defined using a hexadecimal (HEX) notation for the combination of Red, Green, and Blue color values (RGB).\n",
        "Specifications of HEX Color Code\n",
        "■ It must start with a '#' symbol.\n",
        "■ It can have 3 or digits 6.\n",
        "■ Each digit is in the range of 0 to F. ( 1, 2, 3, 4, 5, 6, 7, 8, 9, 0, A, B, C, D, E and F).\n",
        "■ A - F letters can be lower case. (a, b, c, d, e and f are also valid digits).\n"
      ]
    },
    {
      "cell_type": "code",
      "metadata": {
        "colab": {
          "base_uri": "https://localhost:8080/"
        },
        "id": "W4pNX1PRpQNI",
        "outputId": "52484c2d-9788-4e8c-8c54-92ebc44b289c"
      },
      "source": [
        "import re\n",
        "for i in range(0, int(input())):\n",
        "    matches = re.findall(r\"(#(?:[\\da-f]{3}){1,2})(?!\\w)(?=.*;)\", input(), re.IGNORECASE)\n",
        "    for m in matches:\n",
        "        print(m)"
      ],
      "execution_count": null,
      "outputs": [
        {
          "output_type": "stream",
          "text": [
            "1\n",
            "#BED {     color: #FfFdF8; background-color:#aef;     font-size: 123px; }\n",
            "#BED\n",
            "#FfFdF8\n",
            "#aef\n"
          ],
          "name": "stdout"
        }
      ]
    },
    {
      "cell_type": "markdown",
      "metadata": {
        "id": "g9ENADHMPsU3"
      },
      "source": [
        "**Q.15. HTML Parser: Part 1**\n",
        "HTML\n",
        "Hypertext Markup Language is a standard markup language used for creating World Wide Web pages.\n",
        "\n",
        "Parsing\n",
        "Parsing is the process of syntactic analysis of a string of symbols. It involves resolving a string into its component parts and describing their syntactic roles.\n",
        "\n",
        "HTMLParser\n",
        "An HTMLParser instance is fed HTML data and calls handler methods when start tags, end tags, text, comments, and other markup elements are encountered.\n",
        "\n",
        "**Task**\n",
        "\n",
        "You are given an HTML code snippet of  lines.\n",
        "Your task is to print start tags, end tags and empty tags separately.\n",
        "\n",
        "Format your results in the following way:\n",
        "\n",
        "Start : Tag1\n",
        "End   : Tag1\n",
        "Start : Tag2\n",
        "-> Attribute2[0] > Attribute_value2[0]\n",
        "-> Attribute2[1] > Attribute_value2[1]\n",
        "-> Attribute2[2] > Attribute_value2[2]\n",
        "Start : Tag3\n",
        "-> Attribute3[0] > None\n",
        "Empty : Tag4\n",
        "-> Attribute4[0] > Attribute_value4[0]\n",
        "End   : Tag3\n",
        "End   : Tag2\n",
        "Here, the -> symbol indicates that the tag contains an attribute. It is immediately followed by the name of the attribute and the attribute value.\n",
        "The > symbol acts as a separator of the attribute and the attribute value.\n",
        "\n",
        "If an HTML tag has no attribute then simply print the name of the tag.\n",
        "If an attribute has no attribute value then simply print the name of the attribute value as None."
      ]
    },
    {
      "cell_type": "code",
      "metadata": {
        "colab": {
          "base_uri": "https://localhost:8080/"
        },
        "id": "tS2js3QMOkjD",
        "outputId": "9d734893-df28-471b-ab23-eaab8208f0f7"
      },
      "source": [
        "from html.parser import HTMLParser\n",
        "\n",
        "\n",
        "class MyHTMLParser(HTMLParser):\n",
        "    def handle_starttag(self, tag, attrs):\n",
        "        print ('Start :', tag)\n",
        "        for ele in attrs:\n",
        "            print ('->', ele[0], '>', ele[1])\n",
        "\n",
        "    def handle_endtag(self, tag):\n",
        "        print ('End   :', tag)\n",
        "\n",
        "    def handle_startendtag(self, tag, attrs):\n",
        "        print ('Empty :', tag)\n",
        "        for ele in attrs:\n",
        "            print ('->', ele[0], '>', ele[1])\n",
        "\n",
        "\n",
        "parser = MyHTMLParser()\n",
        "for _ in range(int(input())):\n",
        "    parser.feed(input())"
      ],
      "execution_count": null,
      "outputs": [
        {
          "output_type": "stream",
          "text": [
            "1\n",
            "<html><head><title>HTML Parser - I</title></head> <body data-modal-target class='1'><h1>HackerRank</h1><br /></body></html>\n",
            "Start : html\n",
            "Start : head\n",
            "Start : title\n",
            "End   : title\n",
            "End   : head\n",
            "Start : body\n",
            "-> data-modal-target > None\n",
            "-> class > 1\n",
            "Start : h1\n",
            "End   : h1\n",
            "Empty : br\n",
            "End   : body\n",
            "End   : html\n"
          ],
          "name": "stdout"
        }
      ]
    },
    {
      "cell_type": "markdown",
      "metadata": {
        "id": "Py0Co6NJc200"
      },
      "source": [
        "**Q16.HTML Parser-Part 2:** You are given an HTML code snippet of  lines.\n",
        "Your task is to print the single-line comments, multi-line comments and the data."
      ]
    },
    {
      "cell_type": "code",
      "metadata": {
        "colab": {
          "base_uri": "https://localhost:8080/"
        },
        "id": "EY24ysrsczds",
        "outputId": "f7520d21-b815-4ddf-beb9-e2aac13a5735"
      },
      "source": [
        "from html.parser import HTMLParser\n",
        "\n",
        "class MyHTMLParser(HTMLParser):\n",
        "    def handle_comment(self, comment):\n",
        "        if '\\n' in comment:\n",
        "            print('>>> Multi-line Comment')\n",
        "        else:\n",
        "            print('>>> Single-line Comment')\n",
        "            \n",
        "        print(comment)\n",
        "    \n",
        "    def handle_data(self, data):\n",
        "        if data == '\\n': return\n",
        "        print('>>> Data')\n",
        "        print(data)\n",
        "\n",
        "html = \"\"       \n",
        "for i in range(int(input())):\n",
        "    html += input().rstrip()\n",
        "    html += '\\n'\n",
        "    \n",
        "parser = MyHTMLParser()\n",
        "parser.feed(html)\n",
        "parser.close()"
      ],
      "execution_count": null,
      "outputs": [
        {
          "output_type": "stream",
          "text": [
            "4\n",
            "<!--[if IE 9]>IE9-specific content\n",
            "<![endif]-->\n",
            "<div> Welcome to HackerRank</div>\n",
            "<!--[if IE 9]>IE9-specific content<![endif]-->\n",
            ">>> Multi-line Comment\n",
            "[if IE 9]>IE9-specific content\n",
            "<![endif]\n",
            ">>> Data\n",
            " Welcome to HackerRank\n",
            ">>> Single-line Comment\n",
            "[if IE 9]>IE9-specific content<![endif]\n"
          ],
          "name": "stdout"
        }
      ]
    },
    {
      "cell_type": "markdown",
      "metadata": {
        "id": "6x9GE8oFeage"
      },
      "source": [
        "**Q.17 Detect HTML Tags, Attributes and Attribute Values:**"
      ]
    },
    {
      "cell_type": "code",
      "metadata": {
        "id": "YiikHVCLhZTG",
        "colab": {
          "base_uri": "https://localhost:8080/"
        },
        "outputId": "7d482516-c66b-46d5-e8c8-f9d7aa0874a8"
      },
      "source": [
        "from html.parser import HTMLParser\n",
        "\n",
        "class MyHTMLParser(HTMLParser):\n",
        "    def handle_starttag(self, tag, attrs):\n",
        "        print(tag)\n",
        "        for attr in attrs:\n",
        "            print(\"->\", attr[0], \">\", attr[1])\n",
        "\n",
        "parser = MyHTMLParser()\n",
        "\n",
        "for i in range(int(input())):\n",
        "    parser.feed(input())\n"
      ],
      "execution_count": 1,
      "outputs": [
        {
          "output_type": "stream",
          "text": [
            "9\n",
            "<head> <title>HTML</title> </head> <object type=\"application/x-flash\"    data=\"your-file.swf\"    width=\"0\" height=\"0\">   <!-- <param name=\"movie\" value=\"your-file.swf\" /> -->   <param name=\"quality\" value=\"high\"/> </object>\n",
            "head\n",
            "title\n",
            "object\n",
            "-> type > application/x-flash\n",
            "-> data > your-file.swf\n",
            "-> width > 0\n",
            "-> height > 0\n",
            "param\n",
            "-> name > quality\n",
            "-> value > high\n",
            "\n",
            "\n",
            "\n",
            "\n",
            "\n",
            "\n",
            "\n",
            "\n"
          ],
          "name": "stdout"
        }
      ]
    },
    {
      "cell_type": "code",
      "metadata": {
        "id": "f-6wwKMkjkkW"
      },
      "source": [
        ""
      ],
      "execution_count": null,
      "outputs": []
    }
  ]
}