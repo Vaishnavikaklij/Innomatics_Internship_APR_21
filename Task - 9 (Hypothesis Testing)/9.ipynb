{
  "nbformat": 4,
  "nbformat_minor": 0,
  "metadata": {
    "colab": {
      "name": "9.ipynb",
      "provenance": [],
      "collapsed_sections": []
    },
    "kernelspec": {
      "name": "python3",
      "display_name": "Python 3"
    },
    "language_info": {
      "name": "python"
    }
  },
  "cells": [
    {
      "cell_type": "markdown",
      "metadata": {
        "id": "aBXBRpten2en"
      },
      "source": [
        "##**Task 9 : Hypothesis Testing**\n",
        "* Hypothesis testing is generally used when you are comparing two or more groups. \n",
        "* The hypothesis is a statement, assumption or claim about the value of the parameter (mean, variance, median etc.).\n",
        "* Hypothesis Testing could be used to interpret and draw conclusions about the population using sample data.\n",
        "\n",
        "* There are two sorts of hypothesis and both the Null Hypothesis (Ho) and Alternative Hypothesis (Ha) must be totally mutually exclusive events.\n",
        "\n",
        "    1. **Null hypothesis** is usually the hypothesis that the event won't happen.\n",
        "    2. **Alternative hypothesis** is a hypothesis that the event will happen.\n",
        " \n",
        "\n",
        "**Why we need Hypothesis Testing?**\n",
        " \n",
        "Suppose a company needs to launch a new bicycle in the market. For this situation, they will follow Hypothesis Testing all together decide the success of the new product in the market.\n",
        "\n",
        "Where the likelihood of the product being ineffective in the market is undertaken as the Null Hypothesis and the likelihood of the product being profitable is undertaken as an Alternative Hypothesis. By following the process of Hypothesis testing they will foresee the accomplishment."
      ]
    },
    {
      "cell_type": "markdown",
      "metadata": {
        "id": "wAi-N9gCd-Ho"
      },
      "source": [
        "#Steps for Hypothesis Testing:\n",
        "**Step 1:** Understanding the scenario and plot the Null hypothesis and Alternate hypothesis\n",
        "\n",
        "**Step 2:** Collecting a sample of size N and computing its mean.\n",
        "\n",
        "**Step 3:** Calculate the test statistic value t.\n",
        "\n",
        "The formula for calculating t is given as,\n",
        " $t = \\frac{\\bar{x} - \\mu}{{s}/\\sqrt[2]{n}}$     \n",
        "Where,\n",
        "t = Test value\n",
        "$\\bar{x}$ = Mean of the sample\n",
        "$\\mu$ = Mean of the population\n",
        "s = standard deviation of the sample/sample_std\n",
        "N = Sample size\n",
        "\n",
        "**Step 4:** We should chooce the significance level of our hypothesis which is denoted by α. The lower the significance level, the more confident you can be in replicating your results.\n",
        "Let us assume the confidence level is 95% i.e. 0.95\n",
        "α = 1 - confidence level\n",
        "Therefore α = 0.05\n",
        "\n",
        "**Step 5:** Deciding the type of test.\n",
        "We have to decide the type of test depending on the context of hypothesis. The tests are,\n",
        "1. Two-tailed test\n",
        "\n",
        "2. One-tailed test\n",
        "\n",
        "You can tell the type of the test and the position of the critical region on the basis of the ‘sign’ in the alternate hypothesis."
      ]
    },
    {
      "cell_type": "markdown",
      "metadata": {
        "id": "Q9lt6e54vL67"
      },
      "source": [
        "$>$ in H₁ → Upper-tailed test → Rejection region on right side of distribution      \n",
        "≠  in H₁ → Two-tailed test → Rejection region on both sides of distribution     \n",
        "$<$ in H₁ → Lower-tailed test → Rejection region on left side of distribution      \n"
      ]
    },
    {
      "cell_type": "markdown",
      "metadata": {
        "id": "UPjbVWDA11eU"
      },
      "source": [
        "**Q1: Pista House selling Hyderabadi Chicken Dum biryani claims that each parcel packet has 500 grams of biryani (also mentioned on the label of packet). You are sceptic of their claims and believe that on average each packet does not contain 500 grams of biryani. How do you prove your claim?**\n"
      ]
    },
    {
      "cell_type": "code",
      "metadata": {
        "id": "MD9mB8zGn7a0"
      },
      "source": [
        "#import important libraries\n",
        "import matplotlib.pyplot as plt\n",
        "import numpy as np\n",
        "from scipy.stats import norm\n",
        "import statistics\n",
        "from scipy.stats import t"
      ],
      "execution_count": 136,
      "outputs": []
    },
    {
      "cell_type": "markdown",
      "metadata": {
        "id": "PLE3gjgj3YHc"
      },
      "source": [
        "**Step - 2: Collect a sample of size N  Compute sample mean $ \\bar{x} \\  $**\n",
        "\n",
        "* Let us collect 10 biriyani packets to form a sample i.e. N = 10.\n",
        "* Sample = [490, 220, 470, 500, 495, 496, 496, 498, 508, 480] "
      ]
    },
    {
      "cell_type": "code",
      "metadata": {
        "colab": {
          "base_uri": "https://localhost:8080/"
        },
        "id": "2tAb5QHi0PrM",
        "outputId": "462fb5d9-0aff-4b62-ecb1-b0c8efa68321"
      },
      "source": [
        "pop_mean = 500 #Given\n",
        "l = [490, 220, 470, 500, 495, 496, 496, 498, 508, 480]\n",
        "sample_size = len(l) #length of sample\n",
        "sample_mean = sum(l)/len(l) \n",
        "print(\"Sample Mean = {}\".format(sample_mean))"
      ],
      "execution_count": 137,
      "outputs": [
        {
          "output_type": "stream",
          "text": [
            "Sample Mean = 465.3\n"
          ],
          "name": "stdout"
        }
      ]
    },
    {
      "cell_type": "markdown",
      "metadata": {
        "id": "5_hRq5cF5yKh"
      },
      "source": [
        "**Step 3: Compute Test Statistic**                    \n",
        "* Calculating t-score:    $t = \\frac{\\bar{x} - \\mu}{{s}/\\sqrt[2]{n}}$         \n",
        "* Where s is standard deviation of the sample s:   $s = \\sqrt[2]\\frac{\\sum{\\bar{x} - \\mu}}{{n-1}} $"
      ]
    },
    {
      "cell_type": "code",
      "metadata": {
        "id": "ALwI762q1tfu"
      },
      "source": [
        "def t_score(sample_size, sample_mean, pop_mean, sample_std):\n",
        "    numerator = sample_mean - pop_mean\n",
        "    denomenator = sample_std / len(l)**0.5\n",
        "    return numerator / denomenator"
      ],
      "execution_count": 138,
      "outputs": []
    },
    {
      "cell_type": "code",
      "metadata": {
        "colab": {
          "base_uri": "https://localhost:8080/"
        },
        "id": "_-oZTn4Z-yUm",
        "outputId": "13580d67-0491-4221-91e8-802650bb9478"
      },
      "source": [
        "sample_std=statistics.stdev(l)\n",
        "print(\"Standard deviation = {}\".format(sample_std))"
      ],
      "execution_count": 139,
      "outputs": [
        {
          "output_type": "stream",
          "text": [
            "Standard deviation = 86.84859110991829\n"
          ],
          "name": "stdout"
        }
      ]
    },
    {
      "cell_type": "code",
      "metadata": {
        "colab": {
          "base_uri": "https://localhost:8080/"
        },
        "id": "mrMXExTl_E5I",
        "outputId": "ffc39b0f-9a5c-4250-8fc8-a28fac3d8b72"
      },
      "source": [
        "t_val = t_score(sample_size, sample_mean, pop_mean, sample_std)\n",
        "print(\"T-score = {}\".format(t_val))"
      ],
      "execution_count": 140,
      "outputs": [
        {
          "output_type": "stream",
          "text": [
            "T-score = -1.263475128444671\n"
          ],
          "name": "stdout"
        }
      ]
    },
    {
      "cell_type": "markdown",
      "metadata": {
        "id": "DW4Z9hUHC9SG"
      },
      "source": [
        "**Step 4: Decide α or significance level**"
      ]
    },
    {
      "cell_type": "code",
      "metadata": {
        "id": "-bBZHWk4B9Z5"
      },
      "source": [
        "confidence_interval = 0.95\n",
        "alpha = 1 - confidence_interval"
      ],
      "execution_count": 141,
      "outputs": []
    },
    {
      "cell_type": "code",
      "metadata": {
        "colab": {
          "base_uri": "https://localhost:8080/"
        },
        "id": "r5dKYjV7DaS9",
        "outputId": "b3ee2642-75ef-474f-8c72-9be6d89641ea"
      },
      "source": [
        "t_critical = t.ppf(1-alpha/2,df = N-1)     #df=degree of freedom --> N-1 = 10-1 = 9\n",
        "print(\"T-critical value =  {}\".format(t_critical))"
      ],
      "execution_count": 142,
      "outputs": [
        {
          "output_type": "stream",
          "text": [
            "T-critical value =  2.093024054408263\n"
          ],
          "name": "stdout"
        }
      ]
    },
    {
      "cell_type": "markdown",
      "metadata": {
        "id": "_zudgCD_Q2jC"
      },
      "source": [
        "**Step 5.1: Calculating two tailed test**"
      ]
    },
    {
      "cell_type": "code",
      "metadata": {
        "colab": {
          "base_uri": "https://localhost:8080/"
        },
        "id": "CaEJQHKqEBo0",
        "outputId": "4fd35591-f419-4d1a-f5d9-c4a8d5388078"
      },
      "source": [
        "if(np.abs(t_val) > t_critical):\n",
        "  print(\"Reject Null Hypothesis\")\n",
        "else:\n",
        "  print(\"Fail to reject Null Hypothesis\")"
      ],
      "execution_count": 143,
      "outputs": [
        {
          "output_type": "stream",
          "text": [
            "Fail to reject Null Hypothesis\n"
          ],
          "name": "stdout"
        }
      ]
    },
    {
      "cell_type": "markdown",
      "metadata": {
        "id": "4DOQY-c8iRPe"
      },
      "source": [
        "**Step 5.2: Compute p-value**"
      ]
    },
    {
      "cell_type": "code",
      "metadata": {
        "colab": {
          "base_uri": "https://localhost:8080/"
        },
        "id": "bAOeFMSoRweY",
        "outputId": "2e444f5c-643a-4ffc-cae0-174213216ed9"
      },
      "source": [
        "p_value = 2 * (1.0 - norm.cdf(np.abs(t_val)))\n",
        "print(\"P-value = \", p_value)\n",
        "\n",
        "if(p_value < alpha):\n",
        "    print(\"Reject Null Hypothesis\")\n",
        "else:\n",
        "    print(\"Fail to reject Null Hypothesis\")"
      ],
      "execution_count": 144,
      "outputs": [
        {
          "output_type": "stream",
          "text": [
            "P-value =  0.20641847943818137\n",
            "Fail to reject Null Hypothesis\n"
          ],
          "name": "stdout"
        }
      ]
    },
    {
      "cell_type": "markdown",
      "metadata": {
        "id": "ItRfhS80W6ls"
      },
      "source": [
        "**Step 6: Ploting the sampling distribution with rejection regions**"
      ]
    },
    {
      "cell_type": "code",
      "metadata": {
        "colab": {
          "base_uri": "https://localhost:8080/",
          "height": 282
        },
        "id": "uFTNybhvUTRR",
        "outputId": "5724e92f-acdc-406f-da3e-5e5a611832b5"
      },
      "source": [
        "# Defining the x minimum and x maximum\n",
        "x_min = 400\n",
        "x_max = 600\n",
        "\n",
        "# Defining the sampling distribution mean and sampling distribution std\n",
        "mean = pop_mean\n",
        "std = sample_std / sample_size**0.5\n",
        "\n",
        "# Ploting the graph and setting the x limits\n",
        "x = np.linspace(x_min, x_max, 100)\n",
        "y = norm.pdf(x, mean, std)\n",
        "plt.xlim(x_min, x_max)\n",
        "plt.plot(x, y)\n",
        "\n",
        "# Computing the left and right critical values (Two tailed Test)\n",
        "t_critical_left = pop_mean + (-t_critical * std)\n",
        "t_critical_right = pop_mean + (t_critical * std)\n",
        "\n",
        "# Shading the left rejection region\n",
        "x1 = np.linspace(x_min, t_critical_left, 100)\n",
        "y1 = norm.pdf(x1, mean, std)\n",
        "plt.fill_between(x1, y1, color='orange')\n",
        "\n",
        "# Shading the right rejection region\n",
        "x2 = np.linspace(t_critical_right, x_max, 100)\n",
        "y2 = norm.pdf(x2, mean, std)\n",
        "plt.fill_between(x2, y2, color='orange')\n",
        "\n",
        "# Ploting the sample mean and concluding the results \n",
        "plt.scatter(sample_mean, 0)\n",
        "plt.annotate(\"x_bar\", (sample_mean, 0.0007))\n",
        "\n",
        "# In this case sample mean falls in the acceptance region\n",
        "# i.e. here we fail to reject the Null Hypothesis"
      ],
      "execution_count": 145,
      "outputs": [
        {
          "output_type": "execute_result",
          "data": {
            "text/plain": [
              "Text(465.3, 0.0007, 'x_bar')"
            ]
          },
          "metadata": {
            "tags": []
          },
          "execution_count": 145
        },
        {
          "output_type": "display_data",
          "data": {
            "image/png": "[encoded data removed]",
            "text/plain": [
              "<Figure size 432x288 with 1 Axes>"
            ]
          },
          "metadata": {
            "tags": [],
            "needs_background": "light"
          }
        }
      ]
    },
    {
      "cell_type": "markdown",
      "metadata": {
        "id": "f3X5beCZcIaB"
      },
      "source": [
        "**Q2. You have developed a new Natural Language Processing Algorithms and done a user study. You claim that the average rating given by the users is greater than 4 on a scale of 1 to 5. How do you prove this to your client?**"
      ]
    },
    {
      "cell_type": "markdown",
      "metadata": {
        "id": "sJ20PbhTeVSv"
      },
      "source": [
        "**Step - 2: Collect a sample of size N  Compute sample mean $ \\bar{x} \\  $**\n",
        "* Let us take 10 user ratings to form a sample i.e. N = 10.\n",
        "* Sample = [4,3,5,4,5,3,5,5,4,2,4,5,5,4,4,5,4,5,4,5] "
      ]
    },
    {
      "cell_type": "code",
      "metadata": {
        "colab": {
          "base_uri": "https://localhost:8080/"
        },
        "id": "50UFf9jVWyf7",
        "outputId": "81b308e3-4a83-450c-8643-61d5dcf6687a"
      },
      "source": [
        "pop_mean = 4 #Given\n",
        "l = [4,3,5,4,5,3,5,5,4,2,4,5,5,4,4,5,4,5,4,5]\n",
        "N = len(l) #length of sample\n",
        "sample_mean = sum(l)/len(l)  #formula\n",
        "print(\"Sample Mean = {}\".format(sample_mean))"
      ],
      "execution_count": 146,
      "outputs": [
        {
          "output_type": "stream",
          "text": [
            "Sample Mean = 4.25\n"
          ],
          "name": "stdout"
        }
      ]
    },
    {
      "cell_type": "markdown",
      "metadata": {
        "id": "KoY1NKVYhYKP"
      },
      "source": [
        "**Step 3: Compute Test Statistic**                    \n",
        "* Calculating t-score:    $t = \\frac{\\bar{x} - \\mu}{{s}/\\sqrt[2]{n}}$         \n",
        "* Where s is standard deviation of the sample s:   $s = \\sqrt[2]\\frac{\\sum{\\bar{x} - \\mu}}{{n-1}} $"
      ]
    },
    {
      "cell_type": "code",
      "metadata": {
        "id": "zdEaSh9PhOng"
      },
      "source": [
        "def t_score(sample_size, sample_mean, pop_mean, sample_std):\n",
        "    numerator = sample_mean - pop_mean\n",
        "    denomenator = sample_std / len(l)**0.5\n",
        "    return numerator / denomenator"
      ],
      "execution_count": 147,
      "outputs": []
    },
    {
      "cell_type": "code",
      "metadata": {
        "colab": {
          "base_uri": "https://localhost:8080/"
        },
        "id": "HvY0oOeMho3N",
        "outputId": "65f450b7-0d12-4e05-eb38-cf8595cd32fd"
      },
      "source": [
        "sample_std=statistics.stdev(l)\n",
        "print(\"Standard deviation = {}\".format(sample_std))"
      ],
      "execution_count": 148,
      "outputs": [
        {
          "output_type": "stream",
          "text": [
            "Standard deviation = 0.8506963092234007\n"
          ],
          "name": "stdout"
        }
      ]
    },
    {
      "cell_type": "code",
      "metadata": {
        "colab": {
          "base_uri": "https://localhost:8080/"
        },
        "id": "28mc-hEUhyzF",
        "outputId": "36703fbe-6512-4700-c354-61ca70f8dd68"
      },
      "source": [
        "t_val = t_score(sample_size, sample_mean, pop_mean, sample_std)\n",
        "print(\"T-score = {}\".format(t_val))"
      ],
      "execution_count": 149,
      "outputs": [
        {
          "output_type": "stream",
          "text": [
            "T-score = 1.3142574813455419\n"
          ],
          "name": "stdout"
        }
      ]
    },
    {
      "cell_type": "markdown",
      "metadata": {
        "id": "DoM2lg14h5Zu"
      },
      "source": [
        "**Step 4: Decide α or significance level**"
      ]
    },
    {
      "cell_type": "code",
      "metadata": {
        "id": "vr8F27dTh4or"
      },
      "source": [
        "confidence_interval = 0.95\n",
        "alpha = 1 - confidence_interval"
      ],
      "execution_count": 150,
      "outputs": []
    },
    {
      "cell_type": "code",
      "metadata": {
        "colab": {
          "base_uri": "https://localhost:8080/"
        },
        "id": "TKFlFqduiEdm",
        "outputId": "f2d9a1e5-ac22-4c6d-d88b-6ea22638c382"
      },
      "source": [
        "t_critical = t.ppf(1-alpha/2,df = N-1)     #df=degree of freedom --> N-1 = 10-1 = 9\n",
        "print(\"T-critical value =  {}\".format(t_critical))"
      ],
      "execution_count": 151,
      "outputs": [
        {
          "output_type": "stream",
          "text": [
            "T-critical value =  2.093024054408263\n"
          ],
          "name": "stdout"
        }
      ]
    },
    {
      "cell_type": "markdown",
      "metadata": {
        "id": "jy0KkZnCiimb"
      },
      "source": [
        "**Step 5.1: Calculating two tailed test**"
      ]
    },
    {
      "cell_type": "code",
      "metadata": {
        "colab": {
          "base_uri": "https://localhost:8080/"
        },
        "id": "3jAwvQiGiimc",
        "outputId": "91a11ae4-12eb-4d0a-fcf8-3bca7c840a3a"
      },
      "source": [
        "if(np.abs(t_val) > t_critical):\n",
        "  print(\"Reject Null Hypothesis\")\n",
        "else:\n",
        "  print(\"Fail to reject Null Hypothesis\")"
      ],
      "execution_count": 152,
      "outputs": [
        {
          "output_type": "stream",
          "text": [
            "Fail to reject Null Hypothesis\n"
          ],
          "name": "stdout"
        }
      ]
    },
    {
      "cell_type": "markdown",
      "metadata": {
        "id": "rFevLa9uTUCi"
      },
      "source": [
        "**Step 5.2: Compute p-value**"
      ]
    },
    {
      "cell_type": "code",
      "metadata": {
        "colab": {
          "base_uri": "https://localhost:8080/"
        },
        "id": "1IuXhrFsiimv",
        "outputId": "80d750cd-2e5f-4163-ccae-e6e787c72d5d"
      },
      "source": [
        "p_value = 2 * (1.0 - norm.cdf(np.abs(t_val)))\n",
        "print(\"P-value = \", p_value)\n",
        "\n",
        "if(p_value < alpha):\n",
        "    print(\"Reject Null Hypothesis\")\n",
        "else:\n",
        "    print(\"Fail to reject Null Hypothesis\")"
      ],
      "execution_count": 153,
      "outputs": [
        {
          "output_type": "stream",
          "text": [
            "P-value =  0.18875957054112558\n",
            "Fail to reject Null Hypothesis\n"
          ],
          "name": "stdout"
        }
      ]
    },
    {
      "cell_type": "markdown",
      "metadata": {
        "id": "4a9GLkb4iupf"
      },
      "source": [
        "**Step 6: Ploting the sampling distribution with rejection regions**"
      ]
    },
    {
      "cell_type": "code",
      "metadata": {
        "colab": {
          "base_uri": "https://localhost:8080/",
          "height": 282
        },
        "id": "UpOmaa8iisII",
        "outputId": "61fdbf44-1c4f-4cac-891b-12f02c549e5a"
      },
      "source": [
        "# Defining the x minimum and x maximum\n",
        "# Defining the x minimum and x maximum\n",
        "x_min = 2.5\n",
        "x_max = 5.0\n",
        "\n",
        "# Defining the sampling distribution mean and sampling distribution std\n",
        "mean = pop_mean\n",
        "std = sample_std / (sample_size**0.5)\n",
        "\n",
        "# Ploting the graph and setting the x limits\n",
        "x = np.linspace(x_min, x_max, 100)\n",
        "y = norm.pdf(x, mean, std)\n",
        "plt.xlim(x_min, x_max)\n",
        "plt.plot(x, y)\n",
        "\n",
        "# Computing the right critical value (Right tailed Test)\n",
        "t_critical_right = pop_mean + (t_critical * std)\n",
        "\n",
        "# Shading the right rejection region\n",
        "x1 = np.linspace(t_critical_right, x_max, 100)\n",
        "y1 = norm.pdf(x1, mean, std)\n",
        "plt.fill_between(x1, y1, color='orange')\n",
        "\n",
        "# Ploting the sample mean and concluding the results \n",
        "plt.scatter(sample_mean, 0)\n",
        "plt.annotate(\"x_bar\", (sample_mean, 0.1))"
      ],
      "execution_count": 154,
      "outputs": [
        {
          "output_type": "execute_result",
          "data": {
            "text/plain": [
              "Text(4.25, 0.1, 'x_bar')"
            ]
          },
          "metadata": {
            "tags": []
          },
          "execution_count": 154
        },
        {
          "output_type": "display_data",
          "data": {
            "image/png": "[encoded data removed]",
            "text/plain": [
              "<Figure size 432x288 with 1 Axes>"
            ]
          },
          "metadata": {
            "tags": [],
            "needs_background": "light"
          }
        }
      ]
    },
    {
      "cell_type": "markdown",
      "metadata": {
        "id": "ABitKPV7jtF2"
      },
      "source": [
        "**Q3. TATA has developed a better fuel management system for the SUV segment. They claim that with this system, on average the SUV's mileage is at least 15 km/litre?** "
      ]
    },
    {
      "cell_type": "markdown",
      "metadata": {
        "id": "zd5X7Sfp0xaH"
      },
      "source": [
        "**Step - 2: Collect a sample of size N  Compute sample mean $ \\bar{x} \\  $**\n",
        "* Let us collect a 20 samples of milage values. i.e. N = 10.\n",
        "* Sample = [14.08,14.13,15.65,13.78,16.26,14.97,15.36,15.81,14.53,16.79,15.78,16.98,13.23,15.43,15.46,13.88,14.31,14.41,15.76,15.38] "
      ]
    },
    {
      "cell_type": "code",
      "metadata": {
        "colab": {
          "base_uri": "https://localhost:8080/"
        },
        "id": "styK3cNT0xaM",
        "outputId": "acb4d8b3-9d2b-4e0f-e85c-08d8cbb89869"
      },
      "source": [
        "pop_mean = 15 #Given\n",
        "l = [14.08,14.13,15.65,13.78,16.26,14.97,15.36,15.81,14.53,16.79,15.78,16.98,13.23,15.43,15.46,13.88,14.31,14.41,15.76,15.38]\n",
        "N = len(l) #length of sample\n",
        "sample_mean = sum(l)/len(l)  #formula\n",
        "print(\"Sample Mean = {}\".format(sample_mean))"
      ],
      "execution_count": 155,
      "outputs": [
        {
          "output_type": "stream",
          "text": [
            "Sample Mean = 15.098999999999998\n"
          ],
          "name": "stdout"
        }
      ]
    },
    {
      "cell_type": "markdown",
      "metadata": {
        "id": "Y6YZ6mVh0xaO"
      },
      "source": [
        "**Step 3: Compute Test Statistic**                    \n",
        "* Calculating t-score:    $t = \\frac{\\bar{x} - \\mu}{{s}/\\sqrt[2]{n}}$         \n",
        "* Where s is standard deviation of the sample s:   $s = \\sqrt[2]\\frac{\\sum{\\bar{x} - \\mu}}{{n-1}} $"
      ]
    },
    {
      "cell_type": "code",
      "metadata": {
        "id": "SD-2SUPU0xaO"
      },
      "source": [
        "def t_score(sample_size, sample_mean, pop_mean, sample_std):\n",
        "    numerator = sample_mean - pop_mean\n",
        "    denomenator = sample_std / len(l)**0.5\n",
        "    return numerator / denomenator"
      ],
      "execution_count": 156,
      "outputs": []
    },
    {
      "cell_type": "code",
      "metadata": {
        "colab": {
          "base_uri": "https://localhost:8080/"
        },
        "id": "PK7mHCCw0xaP",
        "outputId": "e7e0abd1-b0cd-42a8-bcec-7677fdd71c1a"
      },
      "source": [
        "sample_std=statistics.stdev(l)\n",
        "print(\"Standard deviation = {}\".format(sample_std))"
      ],
      "execution_count": 157,
      "outputs": [
        {
          "output_type": "stream",
          "text": [
            "Standard deviation = 1.0253671999517258\n"
          ],
          "name": "stdout"
        }
      ]
    },
    {
      "cell_type": "code",
      "metadata": {
        "colab": {
          "base_uri": "https://localhost:8080/"
        },
        "id": "hVSbsfVF0xaP",
        "outputId": "426c0605-3db7-420c-8684-f026e4257ef6"
      },
      "source": [
        "t_val = t_score(sample_size, sample_mean, pop_mean, sample_std)\n",
        "print(\"T-score = {}\".format(t_val))"
      ],
      "execution_count": 158,
      "outputs": [
        {
          "output_type": "stream",
          "text": [
            "T-score = 0.4317882018907915\n"
          ],
          "name": "stdout"
        }
      ]
    },
    {
      "cell_type": "markdown",
      "metadata": {
        "id": "3hZZBMdO0xaQ"
      },
      "source": [
        "**Step 4: Decide α or significance level**"
      ]
    },
    {
      "cell_type": "code",
      "metadata": {
        "id": "L7FJ1xJB0xaQ"
      },
      "source": [
        "confidence_interval = 0.95\n",
        "alpha = 1 - confidence_interval"
      ],
      "execution_count": 159,
      "outputs": []
    },
    {
      "cell_type": "code",
      "metadata": {
        "colab": {
          "base_uri": "https://localhost:8080/"
        },
        "id": "jN6ATUmb0xaR",
        "outputId": "047f5df2-3799-4b5a-ec90-463aa2330f80"
      },
      "source": [
        "t_critical = t.ppf(1-alpha/2,df = N-1)     #df=degree of freedom --> N-1 = 10-1 = 9\n",
        "print(\"T-critical value =  {}\".format(t_critical))"
      ],
      "execution_count": 160,
      "outputs": [
        {
          "output_type": "stream",
          "text": [
            "T-critical value =  2.093024054408263\n"
          ],
          "name": "stdout"
        }
      ]
    },
    {
      "cell_type": "markdown",
      "metadata": {
        "id": "-mYwxkHo0xaR"
      },
      "source": [
        "**Step 5.1: Calculating two tailed test**"
      ]
    },
    {
      "cell_type": "code",
      "metadata": {
        "colab": {
          "base_uri": "https://localhost:8080/"
        },
        "id": "iGMwhGii0xaR",
        "outputId": "420f091d-3eef-4556-b819-d46351294bf9"
      },
      "source": [
        "if(np.abs(t_val) > t_critical):\n",
        "  print(\"Reject Null Hypothesis\")\n",
        "else:\n",
        "  print(\"Fail to reject Null Hypothesis\")"
      ],
      "execution_count": 161,
      "outputs": [
        {
          "output_type": "stream",
          "text": [
            "Fail to reject Null Hypothesis\n"
          ],
          "name": "stdout"
        }
      ]
    },
    {
      "cell_type": "markdown",
      "metadata": {
        "id": "bJMs8Qhv0xaS"
      },
      "source": [
        "**Step 5.2: Compute p-value**"
      ]
    },
    {
      "cell_type": "code",
      "metadata": {
        "colab": {
          "base_uri": "https://localhost:8080/"
        },
        "id": "cENDHF6X0xaS",
        "outputId": "72d5b8ec-89e3-4392-bf97-054f3536692a"
      },
      "source": [
        "p_value = 2 * (1.0 - norm.cdf(np.abs(t_val)))\n",
        "print(\"P-value = \", p_value)\n",
        "\n",
        "if(p_value < alpha):\n",
        "    print(\"Reject Null Hypothesis\")\n",
        "else:\n",
        "    print(\"Fail to reject Null Hypothesis\")"
      ],
      "execution_count": 162,
      "outputs": [
        {
          "output_type": "stream",
          "text": [
            "P-value =  0.6658953551647\n",
            "Fail to reject Null Hypothesis\n"
          ],
          "name": "stdout"
        }
      ]
    },
    {
      "cell_type": "markdown",
      "metadata": {
        "id": "VBcBroxw0xaT"
      },
      "source": [
        "**Step 6: Ploting the sampling distribution with rejection regions**"
      ]
    },
    {
      "cell_type": "code",
      "metadata": {
        "colab": {
          "base_uri": "https://localhost:8080/",
          "height": 282
        },
        "id": "O342SnrY0xaT",
        "outputId": "e6059abd-1083-4229-cbcf-8a4b31b58650"
      },
      "source": [
        "x_min = 13\n",
        "x_max = 17\n",
        "\n",
        "mean = pop_mean\n",
        "std = sample_std / (sample_size**0.5)\n",
        "\n",
        "x = np.linspace(x_min, x_max, 100)\n",
        "y = norm.pdf(x, mean, std)\n",
        "\n",
        "plt.xlim(x_min, x_max)\n",
        "plt.plot(x, y)\n",
        "\n",
        "t_critical_right = pop_mean + (t_critical * std)\n",
        "\n",
        "x1 = np.linspace(t_critical_right, x_max, 100)\n",
        "y1 = norm.pdf(x1, mean, std)\n",
        "plt.fill_between(x1, y1, color='orange')\n",
        "\n",
        "plt.scatter(sample_mean, 0)\n",
        "plt.annotate(\"x_bar\", (sample_mean, 0.1))"
      ],
      "execution_count": 163,
      "outputs": [
        {
          "output_type": "execute_result",
          "data": {
            "text/plain": [
              "Text(15.098999999999998, 0.1, 'x_bar')"
            ]
          },
          "metadata": {
            "tags": []
          },
          "execution_count": 163
        },
        {
          "output_type": "display_data",
          "data": {
            "image/png": "[encoded data removed]",
            "text/plain": [
              "<Figure size 432x288 with 1 Axes>"
            ]
          },
          "metadata": {
            "tags": [],
            "needs_background": "light"
          }
        }
      ]
    },
    {
      "cell_type": "markdown",
      "metadata": {
        "id": "fVWEIyWn5lVD"
      },
      "source": [
        "**Q4. You have developed a new Machine Learning Application and claim that on average it takes less than 100 ms to predict for any future datapoint. How do you convince your client about this claim?** "
      ]
    },
    {
      "cell_type": "markdown",
      "metadata": {
        "id": "EMmXa9CH6yjU"
      },
      "source": [
        "**Collect a sample of size N  Compute sample mean $ \\bar{x} \\  $**\n",
        "* Let us test the application for 100 times. i.e. N = 100.\n",
        "* Sample = manually"
      ]
    },
    {
      "cell_type": "code",
      "metadata": {
        "id": "sTrjgC6x6yjk"
      },
      "source": [
        "sample_size = 100\n",
        "sample_mean = 97.5\n",
        "pop_mean = 100\n",
        "pop_std = 10"
      ],
      "execution_count": 164,
      "outputs": []
    },
    {
      "cell_type": "code",
      "metadata": {
        "colab": {
          "base_uri": "https://localhost:8080/"
        },
        "id": "emnq8t798E9h",
        "outputId": "16ae1bd6-7be5-4da5-aec5-c531e6006619"
      },
      "source": [
        "alpha = 1 - 0.99\n",
        "t_critical = t.ppf(1-alpha, df = 99)\n",
        "print(t_critical)"
      ],
      "execution_count": 165,
      "outputs": [
        {
          "output_type": "stream",
          "text": [
            "2.3646058614359737\n"
          ],
          "name": "stdout"
        }
      ]
    },
    {
      "cell_type": "code",
      "metadata": {
        "colab": {
          "base_uri": "https://localhost:8080/"
        },
        "id": "oLnpVLtK8SbG",
        "outputId": "d24867d6-923f-413e-9e72-8e0c3eb02b1e"
      },
      "source": [
        "t_val = t_score(sample_size, sample_mean, pop_mean, sample_std)\n",
        "print(t_val)"
      ],
      "execution_count": 166,
      "outputs": [
        {
          "output_type": "stream",
          "text": [
            "-10.903742471989858\n"
          ],
          "name": "stdout"
        }
      ]
    },
    {
      "cell_type": "code",
      "metadata": {
        "colab": {
          "base_uri": "https://localhost:8080/"
        },
        "id": "HjmFS4EX8Wh1",
        "outputId": "7ef00206-9ac8-4f14-fb15-c12d0d652ed8"
      },
      "source": [
        "if abs(t_val) < t_critical:\n",
        "    print(\"Reject the null hypothesis.\")\n",
        "else:\n",
        "    print('Fail to Reject the null hypothesis.')"
      ],
      "execution_count": 167,
      "outputs": [
        {
          "output_type": "stream",
          "text": [
            "Fail to Reject the null hypothesis.\n"
          ],
          "name": "stdout"
        }
      ]
    },
    {
      "cell_type": "code",
      "metadata": {
        "colab": {
          "base_uri": "https://localhost:8080/"
        },
        "id": "yYOqHFl88-ra",
        "outputId": "b0decd71-4562-4f76-af5b-8956a5eac2c5"
      },
      "source": [
        "p_value = 1.0 - norm.cdf(np.abs(t_val))\n",
        "\n",
        "print(\"p_value = \", p_value)\n",
        "\n",
        "if(p_value < 0.01):\n",
        "    print(\"Reject Null Hypothesis\")\n",
        "else:\n",
        "    print(\"Fail to reject Null Hypothesis\")"
      ],
      "execution_count": 168,
      "outputs": [
        {
          "output_type": "stream",
          "text": [
            "p_value =  0.0\n",
            "Reject Null Hypothesis\n"
          ],
          "name": "stdout"
        }
      ]
    },
    {
      "cell_type": "code",
      "metadata": {
        "colab": {
          "base_uri": "https://localhost:8080/",
          "height": 282
        },
        "id": "v1TM2QHH9HpL",
        "outputId": "3e40a945-ce8d-4038-81de-e1e22de05d02"
      },
      "source": [
        "x_min = 95\n",
        "x_max = 105\n",
        "\n",
        "mean = pop_mean\n",
        "std = sample_std / (sample_size**0.5)\n",
        "\n",
        "x = np.linspace(x_min, x_max, 100)\n",
        "y = norm.pdf(x, mean, std)\n",
        "\n",
        "plt.xlim(x_min, x_max)\n",
        "# plt.ylim(0, 0.03)\n",
        "\n",
        "plt.plot(x, y)\n",
        "\n",
        "t_critical_left = pop_mean + (-t_critical * std)\n",
        "\n",
        "x1 = np.linspace(x_min, t_critical_left, 100)\n",
        "y1 = norm.pdf(x1, mean, std)\n",
        "plt.fill_between(x1, y1, color='orange')\n",
        "\n",
        "plt.scatter(sample_mean, 0)\n",
        "plt.annotate(\"x_bar\", (sample_mean, 0.02))\n",
        "\n",
        "# In this case sample mean falls in the rejection region\n",
        "\n",
        "# i.e. Reject Null Hypothesis"
      ],
      "execution_count": 169,
      "outputs": [
        {
          "output_type": "execute_result",
          "data": {
            "text/plain": [
              "Text(97.5, 0.02, 'x_bar')"
            ]
          },
          "metadata": {
            "tags": []
          },
          "execution_count": 169
        },
        {
          "output_type": "display_data",
          "data": {
            "image/png": "[encoded data removed]",
            "text/plain": [
              "<Figure size 432x288 with 1 Axes>"
            ]
          },
          "metadata": {
            "tags": [],
            "needs_background": "light"
          }
        }
      ]
    }
  ]
}